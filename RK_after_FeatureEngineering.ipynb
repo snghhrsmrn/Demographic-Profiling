{
 "cells": [
  {
   "cell_type": "code",
   "execution_count": 1,
   "metadata": {
    "ExecuteTime": {
     "end_time": "2019-02-11T05:58:46.876535Z",
     "start_time": "2019-02-11T05:58:30.731307Z"
    }
   },
   "outputs": [],
   "source": [
    "from scipy.spatial.distance import mahalanobis\n",
    "import scipy as sp\n",
    "import pandas as pd\n",
    "import dill\n",
    "import numpy as np\n",
    "import matplotlib.pyplot as plt\n",
    "import seaborn as sns\n",
    "# dill.dump_session('RKAFE.db')\n",
    "dill.load_session('RKAFE.db')"
   ]
  },
  {
   "cell_type": "code",
   "execution_count": 3,
   "metadata": {
    "ExecuteTime": {
     "end_time": "2019-02-05T11:54:36.595023Z",
     "start_time": "2019-02-05T11:54:36.545717Z"
    }
   },
   "outputs": [
    {
     "data": {
      "text/html": [
       "<div>\n",
       "<style scoped>\n",
       "    .dataframe tbody tr th:only-of-type {\n",
       "        vertical-align: middle;\n",
       "    }\n",
       "\n",
       "    .dataframe tbody tr th {\n",
       "        vertical-align: top;\n",
       "    }\n",
       "\n",
       "    .dataframe thead th {\n",
       "        text-align: right;\n",
       "    }\n",
       "</style>\n",
       "<table border=\"1\" class=\"dataframe\">\n",
       "  <thead>\n",
       "    <tr style=\"text-align: right;\">\n",
       "      <th></th>\n",
       "      <th>Locality</th>\n",
       "      <th>partno1</th>\n",
       "      <th>Male</th>\n",
       "      <th>Female</th>\n",
       "      <th>Coffee.shops</th>\n",
       "      <th>Salon</th>\n",
       "      <th>buy</th>\n",
       "      <th>rent</th>\n",
       "      <th>yf_LH</th>\n",
       "      <th>ratio</th>\n",
       "      <th>m_dist</th>\n",
       "      <th>r_dist</th>\n",
       "    </tr>\n",
       "  </thead>\n",
       "  <tbody>\n",
       "    <tr>\n",
       "      <th>0</th>\n",
       "      <td>Munirka DDA flats</td>\n",
       "      <td>156</td>\n",
       "      <td>394</td>\n",
       "      <td>400</td>\n",
       "      <td>4</td>\n",
       "      <td>2</td>\n",
       "      <td>12000</td>\n",
       "      <td>27.0</td>\n",
       "      <td>25.250000</td>\n",
       "      <td>1.015228</td>\n",
       "      <td>0.28</td>\n",
       "      <td>0.28</td>\n",
       "    </tr>\n",
       "    <tr>\n",
       "      <th>1</th>\n",
       "      <td>Munirka DDA flats</td>\n",
       "      <td>152</td>\n",
       "      <td>428</td>\n",
       "      <td>437</td>\n",
       "      <td>4</td>\n",
       "      <td>2</td>\n",
       "      <td>12000</td>\n",
       "      <td>27.0</td>\n",
       "      <td>23.340961</td>\n",
       "      <td>1.021028</td>\n",
       "      <td>0.28</td>\n",
       "      <td>0.28</td>\n",
       "    </tr>\n",
       "    <tr>\n",
       "      <th>2</th>\n",
       "      <td>Munirka DDA flats</td>\n",
       "      <td>155</td>\n",
       "      <td>481</td>\n",
       "      <td>482</td>\n",
       "      <td>4</td>\n",
       "      <td>2</td>\n",
       "      <td>12000</td>\n",
       "      <td>27.0</td>\n",
       "      <td>21.161826</td>\n",
       "      <td>1.002079</td>\n",
       "      <td>0.28</td>\n",
       "      <td>0.28</td>\n",
       "    </tr>\n",
       "    <tr>\n",
       "      <th>3</th>\n",
       "      <td>Munirka DDA flats</td>\n",
       "      <td>153</td>\n",
       "      <td>415</td>\n",
       "      <td>459</td>\n",
       "      <td>4</td>\n",
       "      <td>2</td>\n",
       "      <td>12000</td>\n",
       "      <td>27.0</td>\n",
       "      <td>23.747277</td>\n",
       "      <td>1.106024</td>\n",
       "      <td>0.28</td>\n",
       "      <td>0.28</td>\n",
       "    </tr>\n",
       "    <tr>\n",
       "      <th>4</th>\n",
       "      <td>Munirka DDA flats</td>\n",
       "      <td>154</td>\n",
       "      <td>471</td>\n",
       "      <td>528</td>\n",
       "      <td>4</td>\n",
       "      <td>2</td>\n",
       "      <td>12000</td>\n",
       "      <td>27.0</td>\n",
       "      <td>25.568182</td>\n",
       "      <td>1.121019</td>\n",
       "      <td>0.28</td>\n",
       "      <td>0.28</td>\n",
       "    </tr>\n",
       "  </tbody>\n",
       "</table>\n",
       "</div>"
      ],
      "text/plain": [
       "            Locality  partno1  Male  Female  Coffee.shops  Salon    buy  rent  \\\n",
       "0  Munirka DDA flats      156   394     400             4      2  12000  27.0   \n",
       "1  Munirka DDA flats      152   428     437             4      2  12000  27.0   \n",
       "2  Munirka DDA flats      155   481     482             4      2  12000  27.0   \n",
       "3  Munirka DDA flats      153   415     459             4      2  12000  27.0   \n",
       "4  Munirka DDA flats      154   471     528             4      2  12000  27.0   \n",
       "\n",
       "       yf_LH     ratio  m_dist  r_dist  \n",
       "0  25.250000  1.015228    0.28    0.28  \n",
       "1  23.340961  1.021028    0.28    0.28  \n",
       "2  21.161826  1.002079    0.28    0.28  \n",
       "3  23.747277  1.106024    0.28    0.28  \n",
       "4  25.568182  1.121019    0.28    0.28  "
      ]
     },
     "execution_count": 3,
     "metadata": {},
     "output_type": "execute_result"
    }
   ],
   "source": [
    "df = pd.read_csv('rkp511.csv')\n",
    "df.head()"
   ]
  },
  {
   "cell_type": "code",
   "execution_count": 2,
   "metadata": {
    "ExecuteTime": {
     "end_time": "2019-02-06T06:01:40.414965Z",
     "start_time": "2019-02-06T06:01:40.093724Z"
    }
   },
   "outputs": [
    {
     "name": "stdout",
     "output_type": "stream",
     "text": [
      "No of Backward class : 34,\n",
      "No of Middle class : 21 &\n",
      "No of Upper class families : 37\n"
     ]
    }
   ],
   "source": [
    "b_class = np.sum((df['r_dist'] < -1).values.ravel())\n",
    "u_class = np.sum((df['r_dist'] > 1).values.ravel())\n",
    "m_class = df['r_dist'].count() - (b_class + u_class)\n",
    "print('No of Backward class : {},\\nNo of Middle class : {} &\\nNo of Upper class families : {}'\n",
    "      .format(b_class, m_class, u_class))"
   ]
  },
  {
   "cell_type": "code",
   "execution_count": 39,
   "metadata": {
    "ExecuteTime": {
     "end_time": "2019-02-07T10:36:07.818218Z",
     "start_time": "2019-02-07T10:36:07.404333Z"
    }
   },
   "outputs": [
    {
     "data": {
      "image/png": "[encoded data removed]",
      "text/plain": [
       "<Figure size 864x432 with 1 Axes>"
      ]
     },
     "metadata": {
      "needs_background": "light"
     },
     "output_type": "display_data"
    }
   ],
   "source": [
    "plt.figure(figsize=(12, 6))\n",
    "plt.xlabel('Female to male ratio')\n",
    "plt.ylabel('Young Female Likelihood')\n",
    "\n",
    "plt.scatter(df['ratio'], df['yf_LH'])\n",
    "\n",
    "#inferences about below graph\n",
    "# young female likelihood decreases as female ratio increases\n",
    "plt.savefig('yf_lh-ratio.png')"
   ]
  },
  {
   "cell_type": "code",
   "execution_count": 10,
   "metadata": {
    "ExecuteTime": {
     "end_time": "2019-02-06T06:06:16.265191Z",
     "start_time": "2019-02-06T06:06:16.243995Z"
    }
   },
   "outputs": [],
   "source": [
    "labels = ['B_class', 'M_class', 'U_class']\n",
    "bins = [-20, -1, 1, 20]\n",
    "df['Class'] = pd.cut(df['r_dist'], bins, labels = labels)"
   ]
  },
  {
   "cell_type": "code",
   "execution_count": 45,
   "metadata": {
    "ExecuteTime": {
     "end_time": "2019-02-07T10:54:33.490399Z",
     "start_time": "2019-02-07T10:54:33.081280Z"
    }
   },
   "outputs": [
    {
     "data": {
      "image/png": "[encoded data removed]",
      "text/plain": [
       "<Figure size 432x288 with 1 Axes>"
      ]
     },
     "metadata": {
      "needs_background": "light"
     },
     "output_type": "display_data"
    }
   ],
   "source": [
    "sns.countplot(df['Class'])\n",
    "# inference about below graph\n",
    "# there are more upper class in rk puram constitution \n",
    "# there are lesser areas near centroid compared to farther areas from the centroid\n"
   ]
  },
  {
   "cell_type": "code",
   "execution_count": 2,
   "metadata": {
    "ExecuteTime": {
     "end_time": "2019-02-09T10:36:44.906805Z",
     "start_time": "2019-02-09T10:36:44.800982Z"
    }
   },
   "outputs": [],
   "source": [
    "labels = ['Low_ratio', 'Fair_ratio', 'High_ratio']\n",
    "bins = [0, 0.6, 1.0, 2.0]\n",
    "df['F2M_cat'] = pd.cut(df['ratio'], bins, labels = labels)"
   ]
  },
  {
   "cell_type": "markdown",
   "metadata": {},
   "source": [
    "# Analysis below about female ratio according to different classes of society"
   ]
  },
  {
   "cell_type": "code",
   "execution_count": 44,
   "metadata": {
    "ExecuteTime": {
     "end_time": "2019-02-07T10:51:37.621081Z",
     "start_time": "2019-02-07T10:51:36.995337Z"
    }
   },
   "outputs": [
    {
     "data": {
      "image/png": "[encoded data removed]",
      "text/plain": [
       "<Figure size 432x288 with 1 Axes>"
      ]
     },
     "metadata": {
      "needs_background": "light"
     },
     "output_type": "display_data"
    }
   ],
   "source": [
    "sns.barplot(x=df['F2M_cat'], y=df['yf_LH'], hue = df['Class'])\n",
    "# inference about below graph\n",
    "# as we can see for low female ratio there are no young female likelihood in upper class area\n",
    "# and also for high female ratio there are no young female likelihood in backward class area\n"
   ]
  },
  {
   "cell_type": "code",
   "execution_count": 18,
   "metadata": {
    "ExecuteTime": {
     "end_time": "2019-02-07T10:09:27.650935Z",
     "start_time": "2019-02-07T10:09:27.511026Z"
    }
   },
   "outputs": [
    {
     "name": "stderr",
     "output_type": "stream",
     "text": [
      "/home/kei0s/anaconda3/lib/python3.7/site-packages/sklearn/utils/validation.py:595: DataConversionWarning: Data with input dtype int64 was converted to float64 by StandardScaler.\n",
      "  warnings.warn(msg, DataConversionWarning)\n",
      "/home/kei0s/anaconda3/lib/python3.7/site-packages/sklearn/utils/validation.py:595: DataConversionWarning: Data with input dtype int64 was converted to float64 by StandardScaler.\n",
      "  warnings.warn(msg, DataConversionWarning)\n"
     ]
    }
   ],
   "source": [
    "from sklearn.preprocessing import StandardScaler\n",
    "\n",
    "features = ['Coffee.shops', 'Salon', 'buy']\n",
    "\n",
    "# Separating out the features\n",
    "x = df.loc[:, features].values\n",
    "\n",
    "# Standardizing the features\n",
    "x = StandardScaler().fit_transform(x)"
   ]
  },
  {
   "cell_type": "code",
   "execution_count": 47,
   "metadata": {
    "ExecuteTime": {
     "end_time": "2019-02-07T10:57:10.079962Z",
     "start_time": "2019-02-07T10:57:09.522830Z"
    }
   },
   "outputs": [
    {
     "data": {
      "image/png": "[encoded data removed]",
      "text/plain": [
       "<Figure size 864x576 with 1 Axes>"
      ]
     },
     "metadata": {
      "needs_background": "light"
     },
     "output_type": "display_data"
    }
   ],
   "source": [
    "from mpl_toolkits import mplot3d\n",
    "%matplotlib inline\n",
    "import numpy as np\n",
    "import matplotlib.pyplot as plt\n",
    "# fig = plt.figure()\n",
    "cm = plt.get_cmap(\"RdYlGn\")\n",
    "col = np.arange(92)\n",
    "\n",
    "fig = plt.figure(figsize=(12.,8.))\n",
    "ax = plt.axes(projection='3d')\n",
    "ax.scatter3D(df['Coffee.shops'], df['Salon'], df['buy'], marker='o', s=40, linewidths=5)\n",
    "# ax.scatter(x[:,0], x[:,1], x[:,2], c=x[:,2], marker='o', s=40, linewidths=5)\n",
    "ax.set_xlabel('Coffee shops')\n",
    "ax.set_ylabel('Salon')\n",
    "ax.set_zlabel('Buy')\n",
    "fig.savefig('beforeNorm.png')"
   ]
  },
  {
   "cell_type": "code",
   "execution_count": 237,
   "metadata": {
    "ExecuteTime": {
     "end_time": "2019-02-06T10:10:43.481984Z",
     "start_time": "2019-02-06T10:10:43.346452Z"
    }
   },
   "outputs": [
    {
     "data": {
      "text/html": [
       "<div>\n",
       "<style scoped>\n",
       "    .dataframe tbody tr th:only-of-type {\n",
       "        vertical-align: middle;\n",
       "    }\n",
       "\n",
       "    .dataframe tbody tr th {\n",
       "        vertical-align: top;\n",
       "    }\n",
       "\n",
       "    .dataframe thead th {\n",
       "        text-align: right;\n",
       "    }\n",
       "</style>\n",
       "<table border=\"1\" class=\"dataframe\">\n",
       "  <thead>\n",
       "    <tr style=\"text-align: right;\">\n",
       "      <th></th>\n",
       "      <th>Constituency</th>\n",
       "      <th>Locality</th>\n",
       "      <th>Part No</th>\n",
       "      <th>Unnamed: 3</th>\n",
       "      <th>Male</th>\n",
       "      <th>Female</th>\n",
       "      <th>Coffee Shops</th>\n",
       "      <th>Salon</th>\n",
       "      <th>Buy/per sqft</th>\n",
       "      <th>Rent/per sqrt</th>\n",
       "      <th>Young Women %</th>\n",
       "      <th>Married_F</th>\n",
       "      <th>YF</th>\n",
       "      <th>MYF</th>\n",
       "    </tr>\n",
       "  </thead>\n",
       "  <tbody>\n",
       "    <tr>\n",
       "      <th>0</th>\n",
       "      <td>RKPURAM- AC-44</td>\n",
       "      <td>satyaniketan</td>\n",
       "      <td>1</td>\n",
       "      <td>NaN</td>\n",
       "      <td>660</td>\n",
       "      <td>588</td>\n",
       "      <td>10</td>\n",
       "      <td>4</td>\n",
       "      <td>9200.0</td>\n",
       "      <td>49.0</td>\n",
       "      <td>36.564626</td>\n",
       "      <td>427</td>\n",
       "      <td>209</td>\n",
       "      <td>76</td>\n",
       "    </tr>\n",
       "    <tr>\n",
       "      <th>1</th>\n",
       "      <td>NaN</td>\n",
       "      <td>satyaniketan</td>\n",
       "      <td>2</td>\n",
       "      <td>NaN</td>\n",
       "      <td>486</td>\n",
       "      <td>480</td>\n",
       "      <td>10</td>\n",
       "      <td>4</td>\n",
       "      <td>9200.0</td>\n",
       "      <td>49.0</td>\n",
       "      <td>29.583333</td>\n",
       "      <td>342</td>\n",
       "      <td>139</td>\n",
       "      <td>39</td>\n",
       "    </tr>\n",
       "    <tr>\n",
       "      <th>2</th>\n",
       "      <td>NaN</td>\n",
       "      <td>satyaniketan</td>\n",
       "      <td>3</td>\n",
       "      <td>NaN</td>\n",
       "      <td>626</td>\n",
       "      <td>525</td>\n",
       "      <td>10</td>\n",
       "      <td>4</td>\n",
       "      <td>NaN</td>\n",
       "      <td>NaN</td>\n",
       "      <td>44.952381</td>\n",
       "      <td>362</td>\n",
       "      <td>235</td>\n",
       "      <td>89</td>\n",
       "    </tr>\n",
       "    <tr>\n",
       "      <th>3</th>\n",
       "      <td>NaN</td>\n",
       "      <td>satyaniketan</td>\n",
       "      <td>4</td>\n",
       "      <td>NaN</td>\n",
       "      <td>443</td>\n",
       "      <td>362</td>\n",
       "      <td>10</td>\n",
       "      <td>2</td>\n",
       "      <td>NaN</td>\n",
       "      <td>NaN</td>\n",
       "      <td>48.342541</td>\n",
       "      <td>240</td>\n",
       "      <td>175</td>\n",
       "      <td>72</td>\n",
       "    </tr>\n",
       "    <tr>\n",
       "      <th>4</th>\n",
       "      <td>NaN</td>\n",
       "      <td>satyaniketan</td>\n",
       "      <td>5</td>\n",
       "      <td>NaN</td>\n",
       "      <td>444</td>\n",
       "      <td>356</td>\n",
       "      <td>10</td>\n",
       "      <td>2</td>\n",
       "      <td>NaN</td>\n",
       "      <td>NaN</td>\n",
       "      <td>38.202247</td>\n",
       "      <td>252</td>\n",
       "      <td>135</td>\n",
       "      <td>57</td>\n",
       "    </tr>\n",
       "  </tbody>\n",
       "</table>\n",
       "</div>"
      ],
      "text/plain": [
       "     Constituency      Locality  Part No  Unnamed: 3  Male  Female  \\\n",
       "0  RKPURAM- AC-44  satyaniketan        1         NaN   660     588   \n",
       "1             NaN  satyaniketan        2         NaN   486     480   \n",
       "2             NaN  satyaniketan        3         NaN   626     525   \n",
       "3             NaN  satyaniketan        4         NaN   443     362   \n",
       "4             NaN  satyaniketan        5         NaN   444     356   \n",
       "\n",
       "   Coffee Shops  Salon  Buy/per sqft  Rent/per sqrt  Young Women %  Married_F  \\\n",
       "0            10      4        9200.0           49.0      36.564626        427   \n",
       "1            10      4        9200.0           49.0      29.583333        342   \n",
       "2            10      4           NaN            NaN      44.952381        362   \n",
       "3            10      2           NaN            NaN      48.342541        240   \n",
       "4            10      2           NaN            NaN      38.202247        252   \n",
       "\n",
       "    YF  MYF  \n",
       "0  209   76  \n",
       "1  139   39  \n",
       "2  235   89  \n",
       "3  175   72  \n",
       "4  135   57  "
      ]
     },
     "execution_count": 237,
     "metadata": {},
     "output_type": "execute_result"
    }
   ],
   "source": [
    "# df.sort_values(by=['m_dist'])\n",
    "# df[df['Class'] == 'M_class'].count()\n",
    "df_rk = pd.read_excel('data about rk puram.xlsx')\n",
    "df_rk.head()\n",
    "# df_rk.sort_values(by=['Part No'])"
   ]
  },
  {
   "cell_type": "code",
   "execution_count": 238,
   "metadata": {
    "ExecuteTime": {
     "end_time": "2019-02-06T10:10:53.068618Z",
     "start_time": "2019-02-06T10:10:52.636278Z"
    }
   },
   "outputs": [
    {
     "data": {
      "text/plain": [
       "92"
      ]
     },
     "execution_count": 238,
     "metadata": {},
     "output_type": "execute_result"
    }
   ],
   "source": [
    "# df_rk.sort_values(by=['Married_F'])\n",
    "a = [0]*len(df1)\n",
    "for i in range(92):\n",
    "    for j in range(156):\n",
    "        if (df1['partno1'][i] == df_rk['Part No'][j]):\n",
    "            a[i] = df_rk['MYF'][j]\n",
    "        \n",
    "len(a)"
   ]
  },
  {
   "cell_type": "code",
   "execution_count": 239,
   "metadata": {
    "ExecuteTime": {
     "end_time": "2019-02-06T10:11:02.287174Z",
     "start_time": "2019-02-06T10:11:02.226813Z"
    }
   },
   "outputs": [
    {
     "data": {
      "text/html": [
       "<div>\n",
       "<style scoped>\n",
       "    .dataframe tbody tr th:only-of-type {\n",
       "        vertical-align: middle;\n",
       "    }\n",
       "\n",
       "    .dataframe tbody tr th {\n",
       "        vertical-align: top;\n",
       "    }\n",
       "\n",
       "    .dataframe thead th {\n",
       "        text-align: right;\n",
       "    }\n",
       "</style>\n",
       "<table border=\"1\" class=\"dataframe\">\n",
       "  <thead>\n",
       "    <tr style=\"text-align: right;\">\n",
       "      <th></th>\n",
       "      <th>Locality</th>\n",
       "      <th>partno1</th>\n",
       "      <th>Male</th>\n",
       "      <th>Female</th>\n",
       "      <th>Coffee.shops</th>\n",
       "      <th>Salon</th>\n",
       "      <th>buy</th>\n",
       "      <th>rent</th>\n",
       "      <th>yf_LH</th>\n",
       "      <th>ratio</th>\n",
       "      <th>m_dist</th>\n",
       "      <th>r_dist</th>\n",
       "      <th>Class</th>\n",
       "      <th>F2M_cat</th>\n",
       "      <th>Married_F</th>\n",
       "      <th>YF</th>\n",
       "      <th>MYF</th>\n",
       "    </tr>\n",
       "  </thead>\n",
       "  <tbody>\n",
       "    <tr>\n",
       "      <th>0</th>\n",
       "      <td>satyaniketan</td>\n",
       "      <td>1</td>\n",
       "      <td>660</td>\n",
       "      <td>588</td>\n",
       "      <td>10</td>\n",
       "      <td>4</td>\n",
       "      <td>9200</td>\n",
       "      <td>49.0</td>\n",
       "      <td>36.564626</td>\n",
       "      <td>0.890909</td>\n",
       "      <td>7.52</td>\n",
       "      <td>-7.52</td>\n",
       "      <td>B_class</td>\n",
       "      <td>Fair_ratio</td>\n",
       "      <td>427</td>\n",
       "      <td>209</td>\n",
       "      <td>76</td>\n",
       "    </tr>\n",
       "    <tr>\n",
       "      <th>1</th>\n",
       "      <td>satyaniketan</td>\n",
       "      <td>2</td>\n",
       "      <td>486</td>\n",
       "      <td>480</td>\n",
       "      <td>10</td>\n",
       "      <td>4</td>\n",
       "      <td>9200</td>\n",
       "      <td>49.0</td>\n",
       "      <td>29.583333</td>\n",
       "      <td>0.987654</td>\n",
       "      <td>7.52</td>\n",
       "      <td>-7.52</td>\n",
       "      <td>B_class</td>\n",
       "      <td>Fair_ratio</td>\n",
       "      <td>342</td>\n",
       "      <td>139</td>\n",
       "      <td>39</td>\n",
       "    </tr>\n",
       "    <tr>\n",
       "      <th>2</th>\n",
       "      <td>Nanakpura</td>\n",
       "      <td>6</td>\n",
       "      <td>514</td>\n",
       "      <td>442</td>\n",
       "      <td>3</td>\n",
       "      <td>2</td>\n",
       "      <td>0</td>\n",
       "      <td>0.0</td>\n",
       "      <td>42.986425</td>\n",
       "      <td>0.859922</td>\n",
       "      <td>1.22</td>\n",
       "      <td>-1.22</td>\n",
       "      <td>B_class</td>\n",
       "      <td>Fair_ratio</td>\n",
       "      <td>338</td>\n",
       "      <td>186</td>\n",
       "      <td>98</td>\n",
       "    </tr>\n",
       "    <tr>\n",
       "      <th>3</th>\n",
       "      <td>Nanakpura</td>\n",
       "      <td>7</td>\n",
       "      <td>456</td>\n",
       "      <td>370</td>\n",
       "      <td>3</td>\n",
       "      <td>2</td>\n",
       "      <td>0</td>\n",
       "      <td>0.0</td>\n",
       "      <td>41.621622</td>\n",
       "      <td>0.811404</td>\n",
       "      <td>1.22</td>\n",
       "      <td>-1.22</td>\n",
       "      <td>B_class</td>\n",
       "      <td>Fair_ratio</td>\n",
       "      <td>295</td>\n",
       "      <td>150</td>\n",
       "      <td>90</td>\n",
       "    </tr>\n",
       "    <tr>\n",
       "      <th>4</th>\n",
       "      <td>Nanakpura</td>\n",
       "      <td>8</td>\n",
       "      <td>446</td>\n",
       "      <td>387</td>\n",
       "      <td>3</td>\n",
       "      <td>3</td>\n",
       "      <td>0</td>\n",
       "      <td>0.0</td>\n",
       "      <td>53.488372</td>\n",
       "      <td>0.867713</td>\n",
       "      <td>2.99</td>\n",
       "      <td>-2.99</td>\n",
       "      <td>B_class</td>\n",
       "      <td>Fair_ratio</td>\n",
       "      <td>290</td>\n",
       "      <td>198</td>\n",
       "      <td>116</td>\n",
       "    </tr>\n",
       "  </tbody>\n",
       "</table>\n",
       "</div>"
      ],
      "text/plain": [
       "       Locality  partno1  Male  Female  Coffee.shops  Salon   buy  rent  \\\n",
       "0  satyaniketan        1   660     588            10      4  9200  49.0   \n",
       "1  satyaniketan        2   486     480            10      4  9200  49.0   \n",
       "2     Nanakpura        6   514     442             3      2     0   0.0   \n",
       "3     Nanakpura        7   456     370             3      2     0   0.0   \n",
       "4     Nanakpura        8   446     387             3      3     0   0.0   \n",
       "\n",
       "       yf_LH     ratio  m_dist  r_dist    Class     F2M_cat  Married_F   YF  \\\n",
       "0  36.564626  0.890909    7.52   -7.52  B_class  Fair_ratio        427  209   \n",
       "1  29.583333  0.987654    7.52   -7.52  B_class  Fair_ratio        342  139   \n",
       "2  42.986425  0.859922    1.22   -1.22  B_class  Fair_ratio        338  186   \n",
       "3  41.621622  0.811404    1.22   -1.22  B_class  Fair_ratio        295  150   \n",
       "4  53.488372  0.867713    2.99   -2.99  B_class  Fair_ratio        290  198   \n",
       "\n",
       "   MYF  \n",
       "0   76  \n",
       "1   39  \n",
       "2   98  \n",
       "3   90  \n",
       "4  116  "
      ]
     },
     "execution_count": 239,
     "metadata": {},
     "output_type": "execute_result"
    }
   ],
   "source": [
    "# df.head()\n",
    "# df['partno1']\n",
    "# df1 = df.sort_values(by=['partno1'], ascending=True)\n",
    "# x = np.randn(92)\n",
    "# df1 = df1.reset_index()\n",
    "# df1\n",
    "# df1.sort_values(by=['partno1'], ascending=False)\n",
    "df1['MYF'] = a\n",
    "# df1.drop('MYF_LH', axis=1, inplace=True)\n",
    "df1.head()"
   ]
  },
  {
   "cell_type": "code",
   "execution_count": 38,
   "metadata": {
    "ExecuteTime": {
     "end_time": "2019-02-07T10:33:52.993105Z",
     "start_time": "2019-02-07T10:33:52.623389Z"
    }
   },
   "outputs": [
    {
     "data": {
      "image/png": "[encoded data removed]",
      "text/plain": [
       "<Figure size 864x432 with 1 Axes>"
      ]
     },
     "metadata": {
      "needs_background": "light"
     },
     "output_type": "display_data"
    }
   ],
   "source": [
    "# df_rk['Married_F'][0]\n",
    "plt.figure(figsize=(12, 6))\n",
    "plt.xlabel('Relative distance')\n",
    "plt.ylabel('Young female likelihood')\n",
    "plt.scatter(df['r_dist'], df['yf_LH'])\n",
    "# inference about below graph\n",
    "# there are more young female near the centroid that means near munirka dda flats\n",
    "plt.savefig('yf_lh-r_dist.png')"
   ]
  },
  {
   "cell_type": "code",
   "execution_count": 228,
   "metadata": {
    "ExecuteTime": {
     "end_time": "2019-02-06T09:55:48.940517Z",
     "start_time": "2019-02-06T09:55:48.885178Z"
    }
   },
   "outputs": [
    {
     "data": {
      "text/html": [
       "<div>\n",
       "<style scoped>\n",
       "    .dataframe tbody tr th:only-of-type {\n",
       "        vertical-align: middle;\n",
       "    }\n",
       "\n",
       "    .dataframe tbody tr th {\n",
       "        vertical-align: top;\n",
       "    }\n",
       "\n",
       "    .dataframe thead th {\n",
       "        text-align: right;\n",
       "    }\n",
       "</style>\n",
       "<table border=\"1\" class=\"dataframe\">\n",
       "  <thead>\n",
       "    <tr style=\"text-align: right;\">\n",
       "      <th></th>\n",
       "      <th>Locality</th>\n",
       "      <th>partno1</th>\n",
       "      <th>Male</th>\n",
       "      <th>Female</th>\n",
       "      <th>Coffee.shops</th>\n",
       "      <th>Salon</th>\n",
       "      <th>buy</th>\n",
       "      <th>rent</th>\n",
       "      <th>yf_LH</th>\n",
       "      <th>ratio</th>\n",
       "      <th>m_dist</th>\n",
       "      <th>r_dist</th>\n",
       "      <th>Class</th>\n",
       "      <th>F2M_cat</th>\n",
       "      <th>Married_F</th>\n",
       "      <th>YF</th>\n",
       "    </tr>\n",
       "  </thead>\n",
       "  <tbody>\n",
       "    <tr>\n",
       "      <th>0</th>\n",
       "      <td>satyaniketan</td>\n",
       "      <td>1</td>\n",
       "      <td>660</td>\n",
       "      <td>588</td>\n",
       "      <td>10</td>\n",
       "      <td>4</td>\n",
       "      <td>9200</td>\n",
       "      <td>49.0</td>\n",
       "      <td>36.564626</td>\n",
       "      <td>0.890909</td>\n",
       "      <td>7.52</td>\n",
       "      <td>-7.52</td>\n",
       "      <td>B_class</td>\n",
       "      <td>Fair_ratio</td>\n",
       "      <td>427</td>\n",
       "      <td>209</td>\n",
       "    </tr>\n",
       "    <tr>\n",
       "      <th>1</th>\n",
       "      <td>satyaniketan</td>\n",
       "      <td>2</td>\n",
       "      <td>486</td>\n",
       "      <td>480</td>\n",
       "      <td>10</td>\n",
       "      <td>4</td>\n",
       "      <td>9200</td>\n",
       "      <td>49.0</td>\n",
       "      <td>29.583333</td>\n",
       "      <td>0.987654</td>\n",
       "      <td>7.52</td>\n",
       "      <td>-7.52</td>\n",
       "      <td>B_class</td>\n",
       "      <td>Fair_ratio</td>\n",
       "      <td>342</td>\n",
       "      <td>139</td>\n",
       "    </tr>\n",
       "    <tr>\n",
       "      <th>2</th>\n",
       "      <td>Nanakpura</td>\n",
       "      <td>6</td>\n",
       "      <td>514</td>\n",
       "      <td>442</td>\n",
       "      <td>3</td>\n",
       "      <td>2</td>\n",
       "      <td>0</td>\n",
       "      <td>0.0</td>\n",
       "      <td>42.986425</td>\n",
       "      <td>0.859922</td>\n",
       "      <td>1.22</td>\n",
       "      <td>-1.22</td>\n",
       "      <td>B_class</td>\n",
       "      <td>Fair_ratio</td>\n",
       "      <td>338</td>\n",
       "      <td>186</td>\n",
       "    </tr>\n",
       "    <tr>\n",
       "      <th>3</th>\n",
       "      <td>Nanakpura</td>\n",
       "      <td>7</td>\n",
       "      <td>456</td>\n",
       "      <td>370</td>\n",
       "      <td>3</td>\n",
       "      <td>2</td>\n",
       "      <td>0</td>\n",
       "      <td>0.0</td>\n",
       "      <td>41.621622</td>\n",
       "      <td>0.811404</td>\n",
       "      <td>1.22</td>\n",
       "      <td>-1.22</td>\n",
       "      <td>B_class</td>\n",
       "      <td>Fair_ratio</td>\n",
       "      <td>295</td>\n",
       "      <td>150</td>\n",
       "    </tr>\n",
       "    <tr>\n",
       "      <th>4</th>\n",
       "      <td>Nanakpura</td>\n",
       "      <td>8</td>\n",
       "      <td>446</td>\n",
       "      <td>387</td>\n",
       "      <td>3</td>\n",
       "      <td>3</td>\n",
       "      <td>0</td>\n",
       "      <td>0.0</td>\n",
       "      <td>53.488372</td>\n",
       "      <td>0.867713</td>\n",
       "      <td>2.99</td>\n",
       "      <td>-2.99</td>\n",
       "      <td>B_class</td>\n",
       "      <td>Fair_ratio</td>\n",
       "      <td>290</td>\n",
       "      <td>198</td>\n",
       "    </tr>\n",
       "  </tbody>\n",
       "</table>\n",
       "</div>"
      ],
      "text/plain": [
       "       Locality  partno1  Male  Female  Coffee.shops  Salon   buy  rent  \\\n",
       "0  satyaniketan        1   660     588            10      4  9200  49.0   \n",
       "1  satyaniketan        2   486     480            10      4  9200  49.0   \n",
       "2     Nanakpura        6   514     442             3      2     0   0.0   \n",
       "3     Nanakpura        7   456     370             3      2     0   0.0   \n",
       "4     Nanakpura        8   446     387             3      3     0   0.0   \n",
       "\n",
       "       yf_LH     ratio  m_dist  r_dist    Class     F2M_cat  Married_F   YF  \n",
       "0  36.564626  0.890909    7.52   -7.52  B_class  Fair_ratio        427  209  \n",
       "1  29.583333  0.987654    7.52   -7.52  B_class  Fair_ratio        342  139  \n",
       "2  42.986425  0.859922    1.22   -1.22  B_class  Fair_ratio        338  186  \n",
       "3  41.621622  0.811404    1.22   -1.22  B_class  Fair_ratio        295  150  \n",
       "4  53.488372  0.867713    2.99   -2.99  B_class  Fair_ratio        290  198  "
      ]
     },
     "execution_count": 228,
     "metadata": {},
     "output_type": "execute_result"
    }
   ],
   "source": [
    "# df1['partno1'][6] == df_rk['Part No'][6]\n",
    "# df_rk['Married_F'][155]\n",
    "# (df['yf_LH']/100 )* df['Female']\n",
    "df1.head()"
   ]
  },
  {
   "cell_type": "code",
   "execution_count": 241,
   "metadata": {
    "ExecuteTime": {
     "end_time": "2019-02-06T10:11:24.507874Z",
     "start_time": "2019-02-06T10:11:24.440645Z"
    }
   },
   "outputs": [
    {
     "data": {
      "text/html": [
       "<div>\n",
       "<style scoped>\n",
       "    .dataframe tbody tr th:only-of-type {\n",
       "        vertical-align: middle;\n",
       "    }\n",
       "\n",
       "    .dataframe tbody tr th {\n",
       "        vertical-align: top;\n",
       "    }\n",
       "\n",
       "    .dataframe thead th {\n",
       "        text-align: right;\n",
       "    }\n",
       "</style>\n",
       "<table border=\"1\" class=\"dataframe\">\n",
       "  <thead>\n",
       "    <tr style=\"text-align: right;\">\n",
       "      <th></th>\n",
       "      <th>Locality</th>\n",
       "      <th>partno1</th>\n",
       "      <th>Male</th>\n",
       "      <th>Female</th>\n",
       "      <th>Coffee.shops</th>\n",
       "      <th>Salon</th>\n",
       "      <th>buy</th>\n",
       "      <th>rent</th>\n",
       "      <th>yf_LH</th>\n",
       "      <th>ratio</th>\n",
       "      <th>m_dist</th>\n",
       "      <th>r_dist</th>\n",
       "      <th>Class</th>\n",
       "      <th>F2M_cat</th>\n",
       "      <th>Married_F</th>\n",
       "      <th>YF</th>\n",
       "      <th>MYF</th>\n",
       "      <th>MYF_LH</th>\n",
       "    </tr>\n",
       "  </thead>\n",
       "  <tbody>\n",
       "    <tr>\n",
       "      <th>0</th>\n",
       "      <td>satyaniketan</td>\n",
       "      <td>1</td>\n",
       "      <td>660</td>\n",
       "      <td>588</td>\n",
       "      <td>10</td>\n",
       "      <td>4</td>\n",
       "      <td>9200</td>\n",
       "      <td>49.0</td>\n",
       "      <td>36.564626</td>\n",
       "      <td>0.890909</td>\n",
       "      <td>7.52</td>\n",
       "      <td>-7.52</td>\n",
       "      <td>B_class</td>\n",
       "      <td>Fair_ratio</td>\n",
       "      <td>427</td>\n",
       "      <td>209</td>\n",
       "      <td>76</td>\n",
       "      <td>36.363636</td>\n",
       "    </tr>\n",
       "    <tr>\n",
       "      <th>1</th>\n",
       "      <td>satyaniketan</td>\n",
       "      <td>2</td>\n",
       "      <td>486</td>\n",
       "      <td>480</td>\n",
       "      <td>10</td>\n",
       "      <td>4</td>\n",
       "      <td>9200</td>\n",
       "      <td>49.0</td>\n",
       "      <td>29.583333</td>\n",
       "      <td>0.987654</td>\n",
       "      <td>7.52</td>\n",
       "      <td>-7.52</td>\n",
       "      <td>B_class</td>\n",
       "      <td>Fair_ratio</td>\n",
       "      <td>342</td>\n",
       "      <td>139</td>\n",
       "      <td>39</td>\n",
       "      <td>28.057554</td>\n",
       "    </tr>\n",
       "    <tr>\n",
       "      <th>2</th>\n",
       "      <td>Nanakpura</td>\n",
       "      <td>6</td>\n",
       "      <td>514</td>\n",
       "      <td>442</td>\n",
       "      <td>3</td>\n",
       "      <td>2</td>\n",
       "      <td>0</td>\n",
       "      <td>0.0</td>\n",
       "      <td>42.986425</td>\n",
       "      <td>0.859922</td>\n",
       "      <td>1.22</td>\n",
       "      <td>-1.22</td>\n",
       "      <td>B_class</td>\n",
       "      <td>Fair_ratio</td>\n",
       "      <td>338</td>\n",
       "      <td>186</td>\n",
       "      <td>98</td>\n",
       "      <td>52.688172</td>\n",
       "    </tr>\n",
       "    <tr>\n",
       "      <th>3</th>\n",
       "      <td>Nanakpura</td>\n",
       "      <td>7</td>\n",
       "      <td>456</td>\n",
       "      <td>370</td>\n",
       "      <td>3</td>\n",
       "      <td>2</td>\n",
       "      <td>0</td>\n",
       "      <td>0.0</td>\n",
       "      <td>41.621622</td>\n",
       "      <td>0.811404</td>\n",
       "      <td>1.22</td>\n",
       "      <td>-1.22</td>\n",
       "      <td>B_class</td>\n",
       "      <td>Fair_ratio</td>\n",
       "      <td>295</td>\n",
       "      <td>150</td>\n",
       "      <td>90</td>\n",
       "      <td>60.000000</td>\n",
       "    </tr>\n",
       "    <tr>\n",
       "      <th>4</th>\n",
       "      <td>Nanakpura</td>\n",
       "      <td>8</td>\n",
       "      <td>446</td>\n",
       "      <td>387</td>\n",
       "      <td>3</td>\n",
       "      <td>3</td>\n",
       "      <td>0</td>\n",
       "      <td>0.0</td>\n",
       "      <td>53.488372</td>\n",
       "      <td>0.867713</td>\n",
       "      <td>2.99</td>\n",
       "      <td>-2.99</td>\n",
       "      <td>B_class</td>\n",
       "      <td>Fair_ratio</td>\n",
       "      <td>290</td>\n",
       "      <td>198</td>\n",
       "      <td>116</td>\n",
       "      <td>58.585859</td>\n",
       "    </tr>\n",
       "  </tbody>\n",
       "</table>\n",
       "</div>"
      ],
      "text/plain": [
       "       Locality  partno1  Male  Female  Coffee.shops  Salon   buy  rent  \\\n",
       "0  satyaniketan        1   660     588            10      4  9200  49.0   \n",
       "1  satyaniketan        2   486     480            10      4  9200  49.0   \n",
       "2     Nanakpura        6   514     442             3      2     0   0.0   \n",
       "3     Nanakpura        7   456     370             3      2     0   0.0   \n",
       "4     Nanakpura        8   446     387             3      3     0   0.0   \n",
       "\n",
       "       yf_LH     ratio  m_dist  r_dist    Class     F2M_cat  Married_F   YF  \\\n",
       "0  36.564626  0.890909    7.52   -7.52  B_class  Fair_ratio        427  209   \n",
       "1  29.583333  0.987654    7.52   -7.52  B_class  Fair_ratio        342  139   \n",
       "2  42.986425  0.859922    1.22   -1.22  B_class  Fair_ratio        338  186   \n",
       "3  41.621622  0.811404    1.22   -1.22  B_class  Fair_ratio        295  150   \n",
       "4  53.488372  0.867713    2.99   -2.99  B_class  Fair_ratio        290  198   \n",
       "\n",
       "   MYF     MYF_LH  \n",
       "0   76  36.363636  \n",
       "1   39  28.057554  \n",
       "2   98  52.688172  \n",
       "3   90  60.000000  \n",
       "4  116  58.585859  "
      ]
     },
     "execution_count": 241,
     "metadata": {},
     "output_type": "execute_result"
    }
   ],
   "source": [
    "df1['MYF_LH'] = df1['MYF']/df1['YF'] *100\n",
    "\n",
    "df1.head()"
   ]
  },
  {
   "cell_type": "code",
   "execution_count": 36,
   "metadata": {
    "ExecuteTime": {
     "end_time": "2019-02-07T10:29:50.419140Z",
     "start_time": "2019-02-07T10:29:50.049206Z"
    }
   },
   "outputs": [
    {
     "data": {
      "image/png": "[encoded data removed]",
      "text/plain": [
       "<Figure size 864x432 with 1 Axes>"
      ]
     },
     "metadata": {
      "needs_background": "light"
     },
     "output_type": "display_data"
    }
   ],
   "source": [
    "plt.figure(figsize=(12, 6))\n",
    "plt.xlabel('Married young female likelihood')\n",
    "plt.ylabel('Total Young female')\n",
    "plt.scatter(x = df1['MYF_LH'], y=df1['YF'])\n",
    "# inference about below graph\n",
    "# as married young female likelihood increases, total young female increases\n",
    "plt.savefig('tyf-myf_lh.png')"
   ]
  },
  {
   "cell_type": "code",
   "execution_count": 41,
   "metadata": {
    "ExecuteTime": {
     "end_time": "2019-02-07T10:45:20.852572Z",
     "start_time": "2019-02-07T10:45:20.166602Z"
    }
   },
   "outputs": [
    {
     "name": "stderr",
     "output_type": "stream",
     "text": [
      "/home/kei0s/anaconda3/lib/python3.7/site-packages/scipy/stats/stats.py:1713: FutureWarning: Using a non-tuple sequence for multidimensional indexing is deprecated; use `arr[tuple(seq)]` instead of `arr[seq]`. In the future this will be interpreted as an array index, `arr[np.array(seq)]`, which will result either in an error or a different result.\n",
      "  return np.add.reduce(sorted[indexer] * weights, axis=axis) / sumval\n"
     ]
    },
    {
     "data": {
      "image/png": "[encoded data removed]",
      "text/plain": [
       "<Figure size 432x288 with 1 Axes>"
      ]
     },
     "metadata": {
      "needs_background": "light"
     },
     "output_type": "display_data"
    }
   ],
   "source": [
    "sns.barplot(x=df1['Class'], y=df1['MYF'], hue = df1['Class'])\n",
    "# inference about below graph\n",
    "# there are more married young female near the middle class or centroid area\n"
   ]
  },
  {
   "cell_type": "code",
   "execution_count": 42,
   "metadata": {
    "ExecuteTime": {
     "end_time": "2019-02-07T10:48:40.163968Z",
     "start_time": "2019-02-07T10:48:39.539665Z"
    }
   },
   "outputs": [
    {
     "name": "stderr",
     "output_type": "stream",
     "text": [
      "/home/kei0s/anaconda3/lib/python3.7/site-packages/scipy/stats/stats.py:1713: FutureWarning: Using a non-tuple sequence for multidimensional indexing is deprecated; use `arr[tuple(seq)]` instead of `arr[seq]`. In the future this will be interpreted as an array index, `arr[np.array(seq)]`, which will result either in an error or a different result.\n",
      "  return np.add.reduce(sorted[indexer] * weights, axis=axis) / sumval\n"
     ]
    },
    {
     "data": {
      "image/png": "[encoded data removed]",
      "text/plain": [
       "<Figure size 432x288 with 1 Axes>"
      ]
     },
     "metadata": {
      "needs_background": "light"
     },
     "output_type": "display_data"
    }
   ],
   "source": [
    "# Backward class consists of more married young female likelihood\n",
    "sns.barplot(x=df1['Class'], y=df1['MYF_LH'], hue = df1['Class'])\n",
    "# compared above inference where there are more married young female near centroid \n",
    "# here we can seee that married young female likelihood is more compared to centroid area\n"
   ]
  },
  {
   "cell_type": "code",
   "execution_count": 35,
   "metadata": {
    "ExecuteTime": {
     "end_time": "2019-02-07T10:26:16.022729Z",
     "start_time": "2019-02-07T10:26:15.619467Z"
    }
   },
   "outputs": [
    {
     "data": {
      "image/png": "[encoded data removed]",
      "text/plain": [
       "<Figure size 864x432 with 1 Axes>"
      ]
     },
     "metadata": {
      "needs_background": "light"
     },
     "output_type": "display_data"
    }
   ],
   "source": [
    "# area vise female to male ratio\n",
    "plt.figure(figsize=(12, 6))\n",
    "plt.scatter(x=df1['r_dist'], y=df1['ratio'])\n",
    "plt.xlabel('Relative distance')\n",
    "plt.ylabel('Female to male ratio')\n",
    "# inference about below graph\n",
    "# female are more near centroid that means female are more near munirka dda flats\n",
    "plt.savefig('fem-r_dist.png')"
   ]
  },
  {
   "cell_type": "code",
   "execution_count": 6,
   "metadata": {
    "ExecuteTime": {
     "end_time": "2019-02-07T09:57:40.890371Z",
     "start_time": "2019-02-07T09:57:40.764722Z"
    }
   },
   "outputs": [],
   "source": [
    "df1.head()\n",
    "df1.to_excel('rkp511.xlsx')"
   ]
  },
  {
   "cell_type": "code",
   "execution_count": 43,
   "metadata": {
    "ExecuteTime": {
     "end_time": "2019-02-07T10:48:50.610618Z",
     "start_time": "2019-02-07T10:48:50.604728Z"
    }
   },
   "outputs": [],
   "source": [
    "# df1.sort_values(by='MYF', ascending=False)"
   ]
  },
  {
   "cell_type": "code",
   "execution_count": 34,
   "metadata": {
    "ExecuteTime": {
     "end_time": "2019-02-07T10:23:58.981004Z",
     "start_time": "2019-02-07T10:23:58.535748Z"
    }
   },
   "outputs": [
    {
     "data": {
      "image/png": "[encoded data removed]",
      "text/plain": [
       "<Figure size 864x432 with 1 Axes>"
      ]
     },
     "metadata": {
      "needs_background": "light"
     },
     "output_type": "display_data"
    }
   ],
   "source": [
    "# to see married young female likelihood based on the locality\n",
    "plt.figure(figsize=(12, 6))\n",
    "plt.xlabel('Married young female likelihood')\n",
    "plt.ylabel('Female to male ratio')\n",
    "plt.scatter(x=df1['MYF_LH'], y=df1['ratio'])\n",
    "# inference about below scatter plot\n",
    "# for low ratio, young female marriage likelihood increases and vice versa\n",
    "plt.savefig('fem-yflh.png')"
   ]
  },
  {
   "cell_type": "code",
   "execution_count": null,
   "metadata": {},
   "outputs": [],
   "source": []
  }
 ],
 "metadata": {
  "kernelspec": {
   "display_name": "Python 3",
   "language": "python",
   "name": "python3"
  },
  "language_info": {
   "codemirror_mode": {
    "name": "ipython",
    "version": 3
   },
   "file_extension": ".py",
   "mimetype": "text/x-python",
   "name": "python",
   "nbconvert_exporter": "python",
   "pygments_lexer": "ipython3",
   "version": "3.7.2"
  }
 },
 "nbformat": 4,
 "nbformat_minor": 2
}
