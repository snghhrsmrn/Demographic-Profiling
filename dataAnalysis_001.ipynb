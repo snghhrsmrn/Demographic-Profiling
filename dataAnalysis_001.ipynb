{
 "cells": [
  {
   "cell_type": "code",
   "execution_count": 12,
   "metadata": {
    "ExecuteTime": {
     "end_time": "2019-01-31T13:40:28.700938Z",
     "start_time": "2019-01-31T13:40:14.970236Z"
    }
   },
   "outputs": [],
   "source": [
    "### import pandas as pd\n",
    "import matplotlib.pyplot as plt\n",
    "import seaborn as sns\n",
    "import numpy as np\n",
    "import dill\n",
    "# dill.dump_session('notebook_env.db')\n",
    "dill.load_session('notebook_env.db')"
   ]
  },
  {
   "cell_type": "code",
   "execution_count": 3,
   "metadata": {
    "ExecuteTime": {
     "end_time": "2019-01-12T11:40:14.899127Z",
     "start_time": "2019-01-12T11:40:13.604283Z"
    }
   },
   "outputs": [
    {
     "data": {
      "text/html": [
       "<div>\n",
       "<style scoped>\n",
       "    .dataframe tbody tr th:only-of-type {\n",
       "        vertical-align: middle;\n",
       "    }\n",
       "\n",
       "    .dataframe tbody tr th {\n",
       "        vertical-align: top;\n",
       "    }\n",
       "\n",
       "    .dataframe thead th {\n",
       "        text-align: right;\n",
       "    }\n",
       "</style>\n",
       "<table border=\"1\" class=\"dataframe\">\n",
       "  <thead>\n",
       "    <tr style=\"text-align: right;\">\n",
       "      <th></th>\n",
       "      <th>name</th>\n",
       "      <th>gaurdian</th>\n",
       "      <th>g_relation</th>\n",
       "      <th>age</th>\n",
       "      <th>gen</th>\n",
       "      <th>file_name</th>\n",
       "    </tr>\n",
       "  </thead>\n",
       "  <tbody>\n",
       "    <tr>\n",
       "      <th>0</th>\n",
       "      <td>Sidhani</td>\n",
       "      <td>Jamuna Prasad</td>\n",
       "      <td>F</td>\n",
       "      <td>84</td>\n",
       "      <td>M</td>\n",
       "      <td>C:\\Users\\dell\\Desktop\\AAP\\rk puram\\AC0440001_P...</td>\n",
       "    </tr>\n",
       "    <tr>\n",
       "      <th>1</th>\n",
       "      <td>Ram Badan</td>\n",
       "      <td>Sidhari</td>\n",
       "      <td>F</td>\n",
       "      <td>60</td>\n",
       "      <td>M</td>\n",
       "      <td>C:\\Users\\dell\\Desktop\\AAP\\rk puram\\AC0440001_P...</td>\n",
       "    </tr>\n",
       "    <tr>\n",
       "      <th>2</th>\n",
       "      <td>Ram Charan</td>\n",
       "      <td>Sidhari</td>\n",
       "      <td>F</td>\n",
       "      <td>56</td>\n",
       "      <td>M</td>\n",
       "      <td>C:\\Users\\dell\\Desktop\\AAP\\rk puram\\AC0440001_P...</td>\n",
       "    </tr>\n",
       "    <tr>\n",
       "      <th>3</th>\n",
       "      <td>Ninnla</td>\n",
       "      <td>Ram Charan</td>\n",
       "      <td>H</td>\n",
       "      <td>51</td>\n",
       "      <td>F</td>\n",
       "      <td>C:\\Users\\dell\\Desktop\\AAP\\rk puram\\AC0440001_P...</td>\n",
       "    </tr>\n",
       "    <tr>\n",
       "      <th>4</th>\n",
       "      <td>Rajender Kumar</td>\n",
       "      <td>Ram Badan</td>\n",
       "      <td>F</td>\n",
       "      <td>36</td>\n",
       "      <td>M</td>\n",
       "      <td>C:\\Users\\dell\\Desktop\\AAP\\rk puram\\AC0440001_P...</td>\n",
       "    </tr>\n",
       "  </tbody>\n",
       "</table>\n",
       "</div>"
      ],
      "text/plain": [
       "             name       gaurdian g_relation  age gen  \\\n",
       "0         Sidhani  Jamuna Prasad          F   84   M   \n",
       "1       Ram Badan        Sidhari          F   60   M   \n",
       "2      Ram Charan        Sidhari          F   56   M   \n",
       "3          Ninnla     Ram Charan          H   51   F   \n",
       "4  Rajender Kumar      Ram Badan          F   36   M   \n",
       "\n",
       "                                           file_name  \n",
       "0  C:\\Users\\dell\\Desktop\\AAP\\rk puram\\AC0440001_P...  \n",
       "1  C:\\Users\\dell\\Desktop\\AAP\\rk puram\\AC0440001_P...  \n",
       "2  C:\\Users\\dell\\Desktop\\AAP\\rk puram\\AC0440001_P...  \n",
       "3  C:\\Users\\dell\\Desktop\\AAP\\rk puram\\AC0440001_P...  \n",
       "4  C:\\Users\\dell\\Desktop\\AAP\\rk puram\\AC0440001_P...  "
      ]
     },
     "execution_count": 3,
     "metadata": {},
     "output_type": "execute_result"
    }
   ],
   "source": [
    "df = pd.read_csv(\"R.K Puram - final11.csv\")\n",
    "df1 = df\n",
    "df1.head()"
   ]
  },
  {
   "cell_type": "code",
   "execution_count": 4,
   "metadata": {
    "ExecuteTime": {
     "end_time": "2019-01-12T11:40:14.956002Z",
     "start_time": "2019-01-12T11:40:14.917519Z"
    }
   },
   "outputs": [
    {
     "data": {
      "text/plain": [
       "0"
      ]
     },
     "execution_count": 4,
     "metadata": {},
     "output_type": "execute_result"
    }
   ],
   "source": [
    "df[\"age\"].isnull().sum()"
   ]
  },
  {
   "cell_type": "code",
   "execution_count": 5,
   "metadata": {
    "ExecuteTime": {
     "end_time": "2019-01-12T11:40:15.170493Z",
     "start_time": "2019-01-12T11:40:14.969559Z"
    }
   },
   "outputs": [
    {
     "name": "stdout",
     "output_type": "stream",
     "text": [
      "<class 'pandas.core.frame.DataFrame'>\n",
      "RangeIndex: 146117 entries, 0 to 146116\n",
      "Data columns (total 6 columns):\n",
      "name          145559 non-null object\n",
      "gaurdian      146026 non-null object\n",
      "g_relation    145067 non-null object\n",
      "age           146117 non-null int64\n",
      "gen           146117 non-null object\n",
      "file_name     146117 non-null object\n",
      "dtypes: int64(1), object(5)\n",
      "memory usage: 6.7+ MB\n"
     ]
    }
   ],
   "source": [
    "df.info()"
   ]
  },
  {
   "cell_type": "markdown",
   "metadata": {},
   "source": [
    "# Counting number of males and females"
   ]
  },
  {
   "cell_type": "code",
   "execution_count": 22,
   "metadata": {
    "ExecuteTime": {
     "end_time": "2019-01-19T13:26:50.869911Z",
     "start_time": "2019-01-19T13:26:50.618714Z"
    }
   },
   "outputs": [
    {
     "data": {
      "text/plain": [
       "<matplotlib.axes._subplots.AxesSubplot at 0x7fdc1ee3b390>"
      ]
     },
     "execution_count": 22,
     "metadata": {},
     "output_type": "execute_result"
    },
    {
     "data": {
      "image/png": "[encoded data removed]",
      "text/plain": [
       "<Figure size 432x288 with 1 Axes>"
      ]
     },
     "metadata": {
      "needs_background": "light"
     },
     "output_type": "display_data"
    }
   ],
   "source": [
    "sns.countplot(df1[\"gen\"])"
   ]
  },
  {
   "cell_type": "code",
   "execution_count": 7,
   "metadata": {
    "ExecuteTime": {
     "end_time": "2019-01-12T11:40:16.115756Z",
     "start_time": "2019-01-12T11:40:16.108993Z"
    }
   },
   "outputs": [
    {
     "data": {
      "text/plain": [
       "57"
      ]
     },
     "execution_count": 7,
     "metadata": {},
     "output_type": "execute_result"
    }
   ],
   "source": [
    "len(df[\"file_name\"].iloc[1])"
   ]
  },
  {
   "cell_type": "markdown",
   "metadata": {},
   "source": [
    "# Getting values from file-name column after 35th character from every row"
   ]
  },
  {
   "cell_type": "code",
   "execution_count": 32,
   "metadata": {
    "ExecuteTime": {
     "end_time": "2019-01-12T12:37:53.178613Z",
     "start_time": "2019-01-12T12:37:51.038981Z"
    }
   },
   "outputs": [],
   "source": [
    "str = [\"\" for x in range(len(df.index))]\n",
    "for i in range(len(df.index)):\n",
    "    str[i] = df[\"file_name\"].iloc[i][35:]\n",
    "# str"
   ]
  },
  {
   "cell_type": "markdown",
   "metadata": {},
   "source": [
    "# Assigning values from location of file to file name\n",
    "\n",
    "## basically to take \"AC0440001_Page_03.jpg1\" from 'C:\\Users\\dell\\Desktop\\AAP\\rk puram\\AC0440001_Page_03.jpg1'\n",
    "\n",
    "## and divide them as \"AC0440001\" & \"Page_03.jpg1\"\n",
    "## and putting them in different columns\n"
   ]
  },
  {
   "cell_type": "code",
   "execution_count": 9,
   "metadata": {
    "ExecuteTime": {
     "end_time": "2019-01-12T11:40:18.542651Z",
     "start_time": "2019-01-12T11:40:18.320650Z"
    }
   },
   "outputs": [],
   "source": [
    "str1 = [\"\" for x in range(len(df.index))]\n",
    "str2 = [\"\" for x in range(len(df.index))]\n",
    "for i in range(len(df.index)):\n",
    "    str1[i] = str[i].split(\"_\",1)[1]\n",
    "    str2[i] = str[i].split(\"_\",1)[0]\n",
    "df1 = df1.assign(file_name=str2)\n",
    "df1 = df1.assign(Pages=str1)"
   ]
  },
  {
   "cell_type": "code",
   "execution_count": 10,
   "metadata": {
    "ExecuteTime": {
     "end_time": "2019-01-12T11:40:19.847195Z",
     "start_time": "2019-01-12T11:40:18.545225Z"
    }
   },
   "outputs": [
    {
     "data": {
      "text/html": [
       "<div>\n",
       "<style scoped>\n",
       "    .dataframe tbody tr th:only-of-type {\n",
       "        vertical-align: middle;\n",
       "    }\n",
       "\n",
       "    .dataframe tbody tr th {\n",
       "        vertical-align: top;\n",
       "    }\n",
       "\n",
       "    .dataframe thead th {\n",
       "        text-align: right;\n",
       "    }\n",
       "</style>\n",
       "<table border=\"1\" class=\"dataframe\">\n",
       "  <thead>\n",
       "    <tr style=\"text-align: right;\">\n",
       "      <th></th>\n",
       "      <th>name</th>\n",
       "      <th>gaurdian</th>\n",
       "      <th>g_relation</th>\n",
       "      <th>age</th>\n",
       "      <th>gen</th>\n",
       "      <th>file_name</th>\n",
       "      <th>Pages</th>\n",
       "    </tr>\n",
       "  </thead>\n",
       "  <tbody>\n",
       "    <tr>\n",
       "      <th>0</th>\n",
       "      <td>Sidhani</td>\n",
       "      <td>Jamuna Prasad</td>\n",
       "      <td>F</td>\n",
       "      <td>84</td>\n",
       "      <td>M</td>\n",
       "      <td>AC0440001</td>\n",
       "      <td>Page_03.jpg1</td>\n",
       "    </tr>\n",
       "    <tr>\n",
       "      <th>1</th>\n",
       "      <td>Ram Badan</td>\n",
       "      <td>Sidhari</td>\n",
       "      <td>F</td>\n",
       "      <td>60</td>\n",
       "      <td>M</td>\n",
       "      <td>AC0440001</td>\n",
       "      <td>Page_03.jpg2</td>\n",
       "    </tr>\n",
       "    <tr>\n",
       "      <th>2</th>\n",
       "      <td>Ram Charan</td>\n",
       "      <td>Sidhari</td>\n",
       "      <td>F</td>\n",
       "      <td>56</td>\n",
       "      <td>M</td>\n",
       "      <td>AC0440001</td>\n",
       "      <td>Page_03.jpg3</td>\n",
       "    </tr>\n",
       "    <tr>\n",
       "      <th>3</th>\n",
       "      <td>Ninnla</td>\n",
       "      <td>Ram Charan</td>\n",
       "      <td>H</td>\n",
       "      <td>51</td>\n",
       "      <td>F</td>\n",
       "      <td>AC0440001</td>\n",
       "      <td>Page_03.jpg4</td>\n",
       "    </tr>\n",
       "    <tr>\n",
       "      <th>4</th>\n",
       "      <td>Rajender Kumar</td>\n",
       "      <td>Ram Badan</td>\n",
       "      <td>F</td>\n",
       "      <td>36</td>\n",
       "      <td>M</td>\n",
       "      <td>AC0440001</td>\n",
       "      <td>Page_03.jpg5</td>\n",
       "    </tr>\n",
       "  </tbody>\n",
       "</table>\n",
       "</div>"
      ],
      "text/plain": [
       "             name       gaurdian g_relation  age gen  file_name         Pages\n",
       "0         Sidhani  Jamuna Prasad          F   84   M  AC0440001  Page_03.jpg1\n",
       "1       Ram Badan        Sidhari          F   60   M  AC0440001  Page_03.jpg2\n",
       "2      Ram Charan        Sidhari          F   56   M  AC0440001  Page_03.jpg3\n",
       "3          Ninnla     Ram Charan          H   51   F  AC0440001  Page_03.jpg4\n",
       "4  Rajender Kumar      Ram Badan          F   36   M  AC0440001  Page_03.jpg5"
      ]
     },
     "execution_count": 10,
     "metadata": {},
     "output_type": "execute_result"
    }
   ],
   "source": [
    "# df1.to_csv(\"R.K.puram_data.csv\")\n",
    "df1.head()"
   ]
  },
  {
   "cell_type": "code",
   "execution_count": 21,
   "metadata": {
    "ExecuteTime": {
     "end_time": "2019-01-19T13:26:46.828873Z",
     "start_time": "2019-01-19T13:26:46.505422Z"
    }
   },
   "outputs": [
    {
     "data": {
      "text/plain": [
       "<matplotlib.axes._subplots.AxesSubplot at 0x7fdc1ee80780>"
      ]
     },
     "execution_count": 21,
     "metadata": {},
     "output_type": "execute_result"
    },
    {
     "data": {
      "image/png": "[encoded data removed]",
      "text/plain": [
       "<Figure size 432x288 with 1 Axes>"
      ]
     },
     "metadata": {
      "needs_background": "light"
     },
     "output_type": "display_data"
    }
   ],
   "source": [
    "# sns.distplot(df1[\"age\"])\n",
    "sns.countplot(df1[\"g_relation\"], hue = df1.gen)"
   ]
  },
  {
   "cell_type": "code",
   "execution_count": 12,
   "metadata": {
    "ExecuteTime": {
     "end_time": "2019-01-12T11:40:20.235182Z",
     "start_time": "2019-01-12T11:40:20.128055Z"
    }
   },
   "outputs": [],
   "source": [
    "null_df1 = df1[df1[\"g_relation\"].isnull()] #to show null values "
   ]
  },
  {
   "cell_type": "code",
   "execution_count": 31,
   "metadata": {
    "ExecuteTime": {
     "end_time": "2019-01-12T12:37:37.724742Z",
     "start_time": "2019-01-12T12:37:37.718760Z"
    }
   },
   "outputs": [],
   "source": [
    "# sns.countplot(df1[\"file_name\"])"
   ]
  },
  {
   "cell_type": "code",
   "execution_count": 4,
   "metadata": {
    "ExecuteTime": {
     "end_time": "2019-01-12T11:43:08.879108Z",
     "start_time": "2019-01-12T11:43:08.847757Z"
    }
   },
   "outputs": [
    {
     "data": {
      "text/plain": [
       "name          995\n",
       "gaurdian      947\n",
       "g_relation      0\n",
       "age            65\n",
       "gen             2\n",
       "file_name     154\n",
       "Pages         619\n",
       "dtype: int64"
      ]
     },
     "execution_count": 4,
     "metadata": {},
     "output_type": "execute_result"
    }
   ],
   "source": [
    "null_df1.nunique() #counting unique null values "
   ]
  },
  {
   "cell_type": "code",
   "execution_count": 8,
   "metadata": {
    "ExecuteTime": {
     "end_time": "2019-01-14T13:11:13.291547Z",
     "start_time": "2019-01-14T13:11:13.285705Z"
    }
   },
   "outputs": [],
   "source": [
    "# df2 = df1.g_relation != None\n",
    "# df2 = df1\n",
    "# df1[(df1.g_relation == 'F') & (df1.gen == 'F')]"
   ]
  },
  {
   "cell_type": "code",
   "execution_count": 16,
   "metadata": {
    "ExecuteTime": {
     "end_time": "2019-01-12T11:40:22.737016Z",
     "start_time": "2019-01-12T11:40:22.628958Z"
    }
   },
   "outputs": [],
   "source": [
    "indexes = df2[df2[\"g_relation\"].isnull() == True].index\n",
    "# indexes1 = df2[(df2[\"g_relation\"] != \"H\")].index\n",
    "# df2[df2[\"g_relation\"].isnull()]"
   ]
  },
  {
   "cell_type": "code",
   "execution_count": 37,
   "metadata": {
    "ExecuteTime": {
     "end_time": "2019-01-12T12:39:29.930130Z",
     "start_time": "2019-01-12T12:39:29.922178Z"
    }
   },
   "outputs": [],
   "source": [
    "# indexName = indexes.append(indexes)\n",
    "# 29 in indexName\n",
    "# indexName\n",
    "# df2.drop(indexes, inplace=True)\n",
    "# indexes"
   ]
  },
  {
   "cell_type": "code",
   "execution_count": 1,
   "metadata": {
    "ExecuteTime": {
     "end_time": "2019-01-19T13:02:35.613076Z",
     "start_time": "2019-01-19T13:02:23.455928Z"
    }
   },
   "outputs": [],
   "source": [
    "# df1[df1[\"name\"].isnull()]\n",
    "# df1.groupby(\"file_name\")\n",
    "# sns.countplot(df1[\"g_relation\"])\n",
    "# df1.info()\n",
    "\n",
    "# xyz = df1.groupby(df1[\"file_name\"])\n",
    "# xyz.describe()"
   ]
  },
  {
   "cell_type": "markdown",
   "metadata": {},
   "source": [
    "## TO divide ages in an age group"
   ]
  },
  {
   "cell_type": "code",
   "execution_count": 20,
   "metadata": {
    "ExecuteTime": {
     "end_time": "2019-01-19T13:26:43.586472Z",
     "start_time": "2019-01-19T13:26:43.221891Z"
    }
   },
   "outputs": [
    {
     "data": {
      "text/plain": [
       "<matplotlib.axes._subplots.AxesSubplot at 0x7fdc1eebbc50>"
      ]
     },
     "execution_count": 20,
     "metadata": {},
     "output_type": "execute_result"
    },
    {
     "data": {
      "image/png": "[encoded data removed]",
      "text/plain": [
       "<Figure size 432x288 with 1 Axes>"
      ]
     },
     "metadata": {
      "needs_background": "light"
     },
     "output_type": "display_data"
    }
   ],
   "source": [
    "labels = ['18-25', '26-45', '46-60', '61-80', '81-100', '101-119']\n",
    "bins = [18, 26, 46, 61, 81, 101, 119]\n",
    "df1[\"Age_group\"] = pd.cut(df1['age'], bins, labels=labels)\n",
    "# plt.hist(df1[\"age\"], bins=8)\n",
    "# df1.head(5)\n",
    "sns.countplot(df1['Age_group'], hue=df1['gen'])"
   ]
  },
  {
   "cell_type": "code",
   "execution_count": 3,
   "metadata": {
    "ExecuteTime": {
     "end_time": "2019-01-31T07:41:42.254576Z",
     "start_time": "2019-01-31T07:41:42.237267Z"
    }
   },
   "outputs": [
    {
     "data": {
      "text/plain": [
       "RangeIndex(start=0, stop=145067, step=1)"
      ]
     },
     "execution_count": 3,
     "metadata": {},
     "output_type": "execute_result"
    }
   ],
   "source": [
    "# df1.g_relation.isnull().sum()  #to calculate is there a null value in relation column\n",
    "# df1['file_name'].iloc[0][6:]\n",
    "df1.index"
   ]
  },
  {
   "cell_type": "code",
   "execution_count": 17,
   "metadata": {
    "ExecuteTime": {
     "end_time": "2019-01-19T13:26:32.248027Z",
     "start_time": "2019-01-19T13:26:31.806985Z"
    }
   },
   "outputs": [
    {
     "data": {
      "text/html": [
       "<div>\n",
       "<style scoped>\n",
       "    .dataframe tbody tr th:only-of-type {\n",
       "        vertical-align: middle;\n",
       "    }\n",
       "\n",
       "    .dataframe tbody tr th {\n",
       "        vertical-align: top;\n",
       "    }\n",
       "\n",
       "    .dataframe thead th {\n",
       "        text-align: right;\n",
       "    }\n",
       "</style>\n",
       "<table border=\"1\" class=\"dataframe\">\n",
       "  <thead>\n",
       "    <tr style=\"text-align: right;\">\n",
       "      <th></th>\n",
       "      <th>name</th>\n",
       "      <th>gaurdian</th>\n",
       "      <th>g_relation</th>\n",
       "      <th>age</th>\n",
       "      <th>gen</th>\n",
       "      <th>file_name</th>\n",
       "      <th>Age_group</th>\n",
       "      <th>file_name_AC0</th>\n",
       "      <th>Area</th>\n",
       "    </tr>\n",
       "  </thead>\n",
       "  <tbody>\n",
       "    <tr>\n",
       "      <th>0</th>\n",
       "      <td>Sidhani</td>\n",
       "      <td>Jamuna Prasad</td>\n",
       "      <td>F</td>\n",
       "      <td>84</td>\n",
       "      <td>M</td>\n",
       "      <td>AC0440001</td>\n",
       "      <td>81-100</td>\n",
       "      <td>1</td>\n",
       "      <td>SN</td>\n",
       "    </tr>\n",
       "    <tr>\n",
       "      <th>1</th>\n",
       "      <td>Ram Badan</td>\n",
       "      <td>Sidhari</td>\n",
       "      <td>F</td>\n",
       "      <td>60</td>\n",
       "      <td>M</td>\n",
       "      <td>AC0440001</td>\n",
       "      <td>46-60</td>\n",
       "      <td>1</td>\n",
       "      <td>SN</td>\n",
       "    </tr>\n",
       "    <tr>\n",
       "      <th>2</th>\n",
       "      <td>Ram Charan</td>\n",
       "      <td>Sidhari</td>\n",
       "      <td>F</td>\n",
       "      <td>56</td>\n",
       "      <td>M</td>\n",
       "      <td>AC0440001</td>\n",
       "      <td>46-60</td>\n",
       "      <td>1</td>\n",
       "      <td>SN</td>\n",
       "    </tr>\n",
       "    <tr>\n",
       "      <th>3</th>\n",
       "      <td>Ninnla</td>\n",
       "      <td>Ram Charan</td>\n",
       "      <td>H</td>\n",
       "      <td>51</td>\n",
       "      <td>F</td>\n",
       "      <td>AC0440001</td>\n",
       "      <td>46-60</td>\n",
       "      <td>1</td>\n",
       "      <td>SN</td>\n",
       "    </tr>\n",
       "    <tr>\n",
       "      <th>4</th>\n",
       "      <td>Rajender Kumar</td>\n",
       "      <td>Ram Badan</td>\n",
       "      <td>F</td>\n",
       "      <td>36</td>\n",
       "      <td>M</td>\n",
       "      <td>AC0440001</td>\n",
       "      <td>26-45</td>\n",
       "      <td>1</td>\n",
       "      <td>SN</td>\n",
       "    </tr>\n",
       "  </tbody>\n",
       "</table>\n",
       "</div>"
      ],
      "text/plain": [
       "             name       gaurdian g_relation  age gen  file_name Age_group  \\\n",
       "0         Sidhani  Jamuna Prasad          F   84   M  AC0440001    81-100   \n",
       "1       Ram Badan        Sidhari          F   60   M  AC0440001     46-60   \n",
       "2      Ram Charan        Sidhari          F   56   M  AC0440001     46-60   \n",
       "3          Ninnla     Ram Charan          H   51   F  AC0440001     46-60   \n",
       "4  Rajender Kumar      Ram Badan          F   36   M  AC0440001     26-45   \n",
       "\n",
       "   file_name_AC0 Area  \n",
       "0              1   SN  \n",
       "1              1   SN  \n",
       "2              1   SN  \n",
       "3              1   SN  \n",
       "4              1   SN  "
      ]
     },
     "execution_count": 17,
     "metadata": {},
     "output_type": "execute_result"
    }
   ],
   "source": [
    "# str = [\"\" for x in range(len(df1.index))]\n",
    "# for i in range(len(df1.index)):\n",
    "#     str[i] = float(df1[\"file_name\"].iloc[i][6:])\n",
    "# # str\n",
    "# str1 = [\"\" for x in range(len(df1.index))]\n",
    "# df1 = df1.assign(file_name_AC0=str)\n",
    "\n",
    "# df1 = pd.read_csv('R.K.puram_data.csv')\n",
    "df1.head()\n",
    "# df1.drop('file_name_AC0', axis=1)\n",
    "# df1.drop('Pages', axis=1)\n",
    "# df1.to_csv(\"R.K.puram_data.csv\")\n",
    "# df2.head()"
   ]
  },
  {
   "cell_type": "code",
   "execution_count": 25,
   "metadata": {
    "ExecuteTime": {
     "end_time": "2019-01-19T13:36:35.435730Z",
     "start_time": "2019-01-19T13:36:35.042233Z"
    }
   },
   "outputs": [
    {
     "data": {
      "text/plain": [
       "<matplotlib.axes._subplots.AxesSubplot at 0x7fdc1ec900b8>"
      ]
     },
     "execution_count": 25,
     "metadata": {},
     "output_type": "execute_result"
    },
    {
     "data": {
      "image/png": "[encoded data removed]",
      "text/plain": [
       "<Figure size 432x288 with 1 Axes>"
      ]
     },
     "metadata": {
      "needs_background": "light"
     },
     "output_type": "display_data"
    }
   ],
   "source": [
    "labels = ['SN', 'NP', 'AN', 'RKP', 'MP', '1-4', 'BN', 'Vv', 'M', 'DDA']\n",
    "bins = [0, 6, 19, 22, 71, 80, 100, 107, 131, 152, 156]\n",
    "df1[\"Area\"] = pd.cut(df1['file_name_AC0'], bins, labels=labels)\n",
    "# plt.hist(df1[\"age\"], bins=8)\n",
    "# df1.head(5)\n",
    "# sns.countplot(df1['Age_group'], hue=df1['gen'])\n",
    "sns.countplot(df1['Area'], hue=df1['gen'])\n",
    "# df1.to_excel('RKPURAM_final.xlsx')"
   ]
  },
  {
   "cell_type": "code",
   "execution_count": 18,
   "metadata": {
    "ExecuteTime": {
     "end_time": "2019-01-19T13:26:37.442980Z",
     "start_time": "2019-01-19T13:26:37.365806Z"
    }
   },
   "outputs": [
    {
     "data": {
      "text/html": [
       "<div>\n",
       "<style scoped>\n",
       "    .dataframe tbody tr th:only-of-type {\n",
       "        vertical-align: middle;\n",
       "    }\n",
       "\n",
       "    .dataframe tbody tr th {\n",
       "        vertical-align: top;\n",
       "    }\n",
       "\n",
       "    .dataframe thead th {\n",
       "        text-align: right;\n",
       "    }\n",
       "</style>\n",
       "<table border=\"1\" class=\"dataframe\">\n",
       "  <thead>\n",
       "    <tr style=\"text-align: right;\">\n",
       "      <th>gen</th>\n",
       "      <th>F</th>\n",
       "      <th>M</th>\n",
       "    </tr>\n",
       "  </thead>\n",
       "  <tbody>\n",
       "    <tr>\n",
       "      <th>age</th>\n",
       "      <td>41.925088</td>\n",
       "      <td>40.742422</td>\n",
       "    </tr>\n",
       "  </tbody>\n",
       "</table>\n",
       "</div>"
      ],
      "text/plain": [
       "gen          F          M\n",
       "age  41.925088  40.742422"
      ]
     },
     "execution_count": 18,
     "metadata": {},
     "output_type": "execute_result"
    }
   ],
   "source": [
    "# df1['gen'].value_counts()\n",
    "df1.pivot_table(columns='gen', values='age')\n"
   ]
  },
  {
   "cell_type": "code",
   "execution_count": 29,
   "metadata": {
    "ExecuteTime": {
     "end_time": "2019-01-20T11:24:04.221170Z",
     "start_time": "2019-01-20T11:24:03.912544Z"
    }
   },
   "outputs": [
    {
     "data": {
      "text/plain": [
       "<matplotlib.axes._subplots.AxesSubplot at 0x7f344386c898>"
      ]
     },
     "execution_count": 29,
     "metadata": {},
     "output_type": "execute_result"
    },
    {
     "data": {
      "image/png": "[encoded data removed]",
      "text/plain": [
       "<Figure size 432x288 with 1 Axes>"
      ]
     },
     "metadata": {
      "needs_background": "light"
     },
     "output_type": "display_data"
    }
   ],
   "source": [
    "data = df1[(df1['age'] > 35) & (df1['g_relation'] == 'F') & (df1['gen']=='F')]\n",
    "sns.countplot(data['Area'])\n",
    "# data.describe()\n",
    "# data.count()"
   ]
  },
  {
   "cell_type": "code",
   "execution_count": 7,
   "metadata": {
    "ExecuteTime": {
     "end_time": "2019-01-23T10:02:37.907327Z",
     "start_time": "2019-01-23T10:02:37.790323Z"
    }
   },
   "outputs": [
    {
     "name": "stdout",
     "output_type": "stream",
     "text": [
      "male : 55.94104792957737\n",
      "female : 44.05895207042263\n"
     ]
    }
   ],
   "source": [
    "# Finding likelihood of voter of being male or female :\n",
    "female = df1[df1.gen == 'F'].count()\n",
    "male = df1[df1.gen == 'M'].count()\n",
    "total = df1['gen'].count()\n",
    "\n",
    "f_percentage = (female['gen']/total) *100\n",
    "m_percentage = (male['gen']/total) *100\n",
    "print('male :', m_percentage)\n",
    "print('female :', f_percentage)\n",
    "# female['gen']\n"
   ]
  },
  {
   "cell_type": "code",
   "execution_count": 2,
   "metadata": {
    "ExecuteTime": {
     "end_time": "2019-01-24T14:45:20.333454Z",
     "start_time": "2019-01-24T14:45:19.744627Z"
    }
   },
   "outputs": [
    {
     "name": "stdout",
     "output_type": "stream",
     "text": [
      "--Young age group (18-35)--\n",
      "male : 44.188682965299684\n",
      "female : 40.59141046702652\n",
      "\n",
      "--Middle age group (36-60)--\n",
      "male : 45.84976340694006\n",
      "female : 47.59446139403896\n",
      "\n",
      "--Old age group (61-80)--\n",
      "male : 8.68493690851735\n",
      "female : 10.299616678401001\n",
      "\n",
      "--Super old age group (81-100)--\n",
      "male : 1.2642941640378549\n",
      "female : 1.498865680982555\n",
      "\n",
      "--Extremely old age group (>101)--\n",
      "male : 0.012322555205047318\n",
      "female : 0.01564577955096613\n"
     ]
    }
   ],
   "source": [
    "# Age vise probability of female and male voters:\n",
    "\n",
    "data_y = df1[(df1['age'] >= 18) & (df1['age'] <= 35)]\n",
    "data_m = df1[(df1['age'] >= 36) & (df1['age'] <= 60)]\n",
    "data_o = df1[(df1['age'] >= 61) & (df1['age'] <= 80)]\n",
    "data_so = df1[(df1['age'] >= 81) & (df1['age'] <= 100)]\n",
    "data_eo = df1[(df1['age'] >= 101)]\n",
    "\n",
    "# young age group calculation\n",
    "data_y.pivot_table(columns='gen', values='age')\n",
    "y_female = data_y[data_y.gen == 'F'].count()\n",
    "y_male = data_y[data_y.gen == 'M'].count()\n",
    "y_total = data_y['gen'].count()\n",
    "\n",
    "yf_percentage = (y_female['gen']/female['gen']) *100\n",
    "ym_percentage = (y_male['gen']/male['gen']) *100\n",
    "\n",
    "# middle age group caculation\n",
    "data_m.pivot_table(columns='gen', values='age')\n",
    "m_female = data_m[data_m.gen == 'F'].count()\n",
    "m_male = data_m[data_m.gen == 'M'].count()\n",
    "m_total = data_m['gen'].count()\n",
    "\n",
    "mf_percentage = (m_female['gen']/female['gen']) *100\n",
    "mm_percentage = (m_male['gen']/male['gen']) *100\n",
    "\n",
    "# old age group caculation\n",
    "data_o.pivot_table(columns='gen', values='age')\n",
    "o_female = data_o[data_o.gen == 'F'].count()\n",
    "o_male = data_o[data_o.gen == 'M'].count()\n",
    "o_total = data_o['gen'].count()\n",
    "\n",
    "of_percentage = (o_female['gen']/female['gen']) *100\n",
    "om_percentage = (o_male['gen']/male['gen']) *100\n",
    "\n",
    "# super old age group caculation\n",
    "data_so.pivot_table(columns='gen', values='age')\n",
    "so_female = data_so[data_so.gen == 'F'].count()\n",
    "so_male = data_so[data_so.gen == 'M'].count()\n",
    "so_total = data_so['gen'].count()\n",
    "\n",
    "sof_percentage = (so_female['gen']/female['gen']) *100\n",
    "som_percentage = (so_male['gen']/male['gen']) *100\n",
    "\n",
    "# extreme old age group caculation\n",
    "data_eo.pivot_table(columns='gen', values='age')\n",
    "eo_female = data_eo[data_eo.gen == 'F'].count()\n",
    "eo_male = data_eo[data_eo.gen == 'M'].count()\n",
    "eo_total = data_eo['gen'].count()\n",
    "\n",
    "eof_percentage = (eo_female['gen']/female['gen']) *100\n",
    "eom_percentage = (eo_male['gen']/male['gen']) *100\n",
    "\n",
    "# Now to print the result of all the above calculations:\n",
    "\n",
    "print('--Young age group (18-35)--')\n",
    "print('male :', ym_percentage)\n",
    "print('female :', yf_percentage)\n",
    "\n",
    "print('\\n--Middle age group (36-60)--')\n",
    "print('male :', mm_percentage)\n",
    "print('female :', mf_percentage)\n",
    "\n",
    "print('\\n--Old age group (61-80)--')\n",
    "print('male :', om_percentage)\n",
    "print('female :', of_percentage)\n",
    "\n",
    "print('\\n--Super old age group (81-100)--')\n",
    "print('male :', som_percentage)\n",
    "print('female :', sof_percentage)\n",
    "\n",
    "print('\\n--Extremely old age group (>101)--')\n",
    "print('male :', eom_percentage)\n",
    "print('female :', eof_percentage)"
   ]
  },
  {
   "cell_type": "code",
   "execution_count": 7,
   "metadata": {
    "ExecuteTime": {
     "end_time": "2019-01-23T13:46:50.166336Z",
     "start_time": "2019-01-23T13:46:49.842225Z"
    }
   },
   "outputs": [
    {
     "data": {
      "text/html": [
       "<div>\n",
       "<style scoped>\n",
       "    .dataframe tbody tr th:only-of-type {\n",
       "        vertical-align: middle;\n",
       "    }\n",
       "\n",
       "    .dataframe tbody tr th {\n",
       "        vertical-align: top;\n",
       "    }\n",
       "\n",
       "    .dataframe thead th {\n",
       "        text-align: right;\n",
       "    }\n",
       "</style>\n",
       "<table border=\"1\" class=\"dataframe\">\n",
       "  <thead>\n",
       "    <tr style=\"text-align: right;\">\n",
       "      <th></th>\n",
       "      <th>Young</th>\n",
       "      <th>Middle Aged</th>\n",
       "      <th>Old Aged</th>\n",
       "      <th>Super Old</th>\n",
       "      <th>Extreme Old</th>\n",
       "      <th>Total</th>\n",
       "    </tr>\n",
       "  </thead>\n",
       "  <tbody>\n",
       "    <tr>\n",
       "      <th>Male</th>\n",
       "      <td>NaN</td>\n",
       "      <td>NaN</td>\n",
       "      <td>NaN</td>\n",
       "      <td>NaN</td>\n",
       "      <td>NaN</td>\n",
       "      <td>NaN</td>\n",
       "    </tr>\n",
       "    <tr>\n",
       "      <th>Female</th>\n",
       "      <td>NaN</td>\n",
       "      <td>NaN</td>\n",
       "      <td>NaN</td>\n",
       "      <td>NaN</td>\n",
       "      <td>NaN</td>\n",
       "      <td>NaN</td>\n",
       "    </tr>\n",
       "    <tr>\n",
       "      <th>total</th>\n",
       "      <td>NaN</td>\n",
       "      <td>NaN</td>\n",
       "      <td>NaN</td>\n",
       "      <td>NaN</td>\n",
       "      <td>NaN</td>\n",
       "      <td>NaN</td>\n",
       "    </tr>\n",
       "  </tbody>\n",
       "</table>\n",
       "</div>"
      ],
      "text/plain": [
       "       Young Middle Aged Old Aged Super Old Extreme Old Total\n",
       "Male     NaN         NaN      NaN       NaN         NaN   NaN\n",
       "Female   NaN         NaN      NaN       NaN         NaN   NaN\n",
       "total    NaN         NaN      NaN       NaN         NaN   NaN"
      ]
     },
     "execution_count": 7,
     "metadata": {},
     "output_type": "execute_result"
    }
   ],
   "source": [
    "datafm = pd.DataFrame(index=['Male', 'Female', 'total'], \n",
    "                      columns=['Young', 'Middle Aged', 'Old Aged', 'Super Old', 'Extreme Old', 'Total'\n",
    "                                                                          ] )\n",
    "datafm"
   ]
  },
  {
   "cell_type": "code",
   "execution_count": 14,
   "metadata": {
    "ExecuteTime": {
     "end_time": "2019-01-23T13:53:44.651974Z",
     "start_time": "2019-01-23T13:53:44.603954Z"
    }
   },
   "outputs": [],
   "source": [
    "# Putting data of Young aged group into dataframe\n",
    "datafm['Young'] = [y_male['gen'], y_female['gen'], y_total]\n",
    "\n",
    "# Putting data of Middle aged group into dataframe\n",
    "datafm['Middle Aged'] = [m_male['gen'], m_female['gen'], m_total]\n",
    "\n",
    "# Putting data of Old aged group into dataframe\n",
    "datafm['Old Aged'] = [o_male['gen'], o_female['gen'], o_total]\n",
    "\n",
    "# Putting data of Super Old aged group into dataframe\n",
    "datafm['Super Old'] = [so_male['gen'], so_female['gen'], so_total]\n",
    "\n",
    "# Putting data of Extreme Old aged group into dataframe\n",
    "datafm['Extreme Old'] = [eo_male['gen'], eo_female['gen'], eo_total]\n",
    "\n",
    "# Putting data of Total of all aged group into dataframe\n",
    "datafm['Total'] = (datafm['Young'] + datafm['Middle Aged'] +\n",
    "                   datafm['Old Aged'] + datafm['Super Old'] + datafm['Extreme Old'])\n"
   ]
  },
  {
   "cell_type": "code",
   "execution_count": 15,
   "metadata": {
    "ExecuteTime": {
     "end_time": "2019-01-23T13:53:46.577020Z",
     "start_time": "2019-01-23T13:53:46.535993Z"
    }
   },
   "outputs": [
    {
     "data": {
      "text/html": [
       "<div>\n",
       "<style scoped>\n",
       "    .dataframe tbody tr th:only-of-type {\n",
       "        vertical-align: middle;\n",
       "    }\n",
       "\n",
       "    .dataframe tbody tr th {\n",
       "        vertical-align: top;\n",
       "    }\n",
       "\n",
       "    .dataframe thead th {\n",
       "        text-align: right;\n",
       "    }\n",
       "</style>\n",
       "<table border=\"1\" class=\"dataframe\">\n",
       "  <thead>\n",
       "    <tr style=\"text-align: right;\">\n",
       "      <th></th>\n",
       "      <th>Young</th>\n",
       "      <th>Middle Aged</th>\n",
       "      <th>Old Aged</th>\n",
       "      <th>Super Old</th>\n",
       "      <th>Extreme Old</th>\n",
       "      <th>Total</th>\n",
       "    </tr>\n",
       "  </thead>\n",
       "  <tbody>\n",
       "    <tr>\n",
       "      <th>Male</th>\n",
       "      <td>35860</td>\n",
       "      <td>37208</td>\n",
       "      <td>7048</td>\n",
       "      <td>1026</td>\n",
       "      <td>10</td>\n",
       "      <td>81152</td>\n",
       "    </tr>\n",
       "    <tr>\n",
       "      <th>Female</th>\n",
       "      <td>25944</td>\n",
       "      <td>30420</td>\n",
       "      <td>6583</td>\n",
       "      <td>958</td>\n",
       "      <td>10</td>\n",
       "      <td>63915</td>\n",
       "    </tr>\n",
       "    <tr>\n",
       "      <th>total</th>\n",
       "      <td>61804</td>\n",
       "      <td>67628</td>\n",
       "      <td>13631</td>\n",
       "      <td>1984</td>\n",
       "      <td>20</td>\n",
       "      <td>145067</td>\n",
       "    </tr>\n",
       "  </tbody>\n",
       "</table>\n",
       "</div>"
      ],
      "text/plain": [
       "        Young  Middle Aged  Old Aged  Super Old  Extreme Old   Total\n",
       "Male    35860        37208      7048       1026           10   81152\n",
       "Female  25944        30420      6583        958           10   63915\n",
       "total   61804        67628     13631       1984           20  145067"
      ]
     },
     "execution_count": 15,
     "metadata": {},
     "output_type": "execute_result"
    }
   ],
   "source": [
    "datafm"
   ]
  },
  {
   "cell_type": "code",
   "execution_count": 76,
   "metadata": {
    "ExecuteTime": {
     "end_time": "2019-01-29T09:30:28.775276Z",
     "start_time": "2019-01-29T09:30:28.691419Z"
    }
   },
   "outputs": [],
   "source": [
    "# df = df[df['gen'] == 'F ']\n",
    "# df['gen'] = 'F'\n",
    "# df[df['gen'] == 'F '] = df\n",
    "# df\n",
    "df2 = df1[(df1['file_name_AC0'] >= 80) & (df1['file_name_AC0'] < 100)]\n",
    "b = df2.groupby(['file_name', 'gen']).count()['age']\n",
    "b = b.reset_index()\n",
    "df_rk = pd.read_excel('data about rk puram.xlsx')"
   ]
  },
  {
   "cell_type": "code",
   "execution_count": 77,
   "metadata": {
    "ExecuteTime": {
     "end_time": "2019-01-29T09:30:29.446804Z",
     "start_time": "2019-01-29T09:30:29.414248Z"
    }
   },
   "outputs": [],
   "source": [
    "\n",
    "a_f = b[b['gen'] == 'F']\n",
    "a_m = b[b['gen'] == 'M']\n",
    "a_f = a_f.reset_index()\n",
    "a_m = a_m.reset_index()\n",
    "\n",
    "df_rk['Female'] = a_f['age']\n",
    "df_rk['Male'] = a_m['age']\n",
    "# b.head()\n",
    "# a_f"
   ]
  },
  {
   "cell_type": "code",
   "execution_count": 78,
   "metadata": {
    "ExecuteTime": {
     "end_time": "2019-01-29T09:30:30.457026Z",
     "start_time": "2019-01-29T09:30:30.343352Z"
    }
   },
   "outputs": [],
   "source": [
    "# df_rk.head()\n",
    "# df_rk.to_excel('data about rk puram.xlsx')\n",
    "df_rk = pd.read_excel('data about rk puram.xlsx')\n",
    "a = df2.groupby(['file_name', 'g_relation']).count()['age']\n",
    "a = a.reset_index()\n",
    "a = a[a['g_relation'] == 'H']\n",
    "a = a.reset_index()\n",
    "df_rk['Married_F'] = a['age']"
   ]
  },
  {
   "cell_type": "code",
   "execution_count": 79,
   "metadata": {
    "ExecuteTime": {
     "end_time": "2019-01-29T09:30:31.667338Z",
     "start_time": "2019-01-29T09:30:31.616418Z"
    }
   },
   "outputs": [],
   "source": [
    "df_rk.head()\n",
    "df_rk.to_excel('data about rk puram.xlsx')"
   ]
  },
  {
   "cell_type": "code",
   "execution_count": 7,
   "metadata": {
    "ExecuteTime": {
     "end_time": "2019-01-30T09:02:49.627166Z",
     "start_time": "2019-01-30T09:02:49.524242Z"
    }
   },
   "outputs": [],
   "source": [
    "df2 = df1[(df1['file_name_AC0'] >= 80) & (df1['file_name_AC0'] < 100) & (df1['age'] <= 35\n",
    "                                                                        ) & (df1['gen'] == 'F')]\n",
    "c = df2.groupby(['file_name', 'gen']).count()['age']\n",
    "c = c.reset_index()\n",
    "# df_rk = pd.read_excel('data about rk puram.xlsx')"
   ]
  },
  {
   "cell_type": "code",
   "execution_count": 11,
   "metadata": {
    "ExecuteTime": {
     "end_time": "2019-01-30T09:04:56.357429Z",
     "start_time": "2019-01-30T09:04:56.348849Z"
    }
   },
   "outputs": [],
   "source": [
    "df_rk['Young_female'] = c['age']\n"
   ]
  },
  {
   "cell_type": "code",
   "execution_count": 24,
   "metadata": {
    "ExecuteTime": {
     "end_time": "2019-01-30T09:24:31.643789Z",
     "start_time": "2019-01-30T09:24:31.616473Z"
    }
   },
   "outputs": [],
   "source": [
    "# df_rk.to_excel('data about rk puram.xlsx')\n",
    "df_rk = pd.read_excel('data about rk puram.xlsx')"
   ]
  },
  {
   "cell_type": "code",
   "execution_count": 20,
   "metadata": {
    "ExecuteTime": {
     "end_time": "2019-01-30T09:18:58.884305Z",
     "start_time": "2019-01-30T09:18:58.875075Z"
    }
   },
   "outputs": [],
   "source": [
    "df_rk['likelihood'] = (df_rk['Young_female'] / df_rk['Female'])*100"
   ]
  },
  {
   "cell_type": "code",
   "execution_count": 7,
   "metadata": {
    "ExecuteTime": {
     "end_time": "2019-01-30T11:33:24.130014Z",
     "start_time": "2019-01-30T11:33:24.097596Z"
    }
   },
   "outputs": [],
   "source": [
    "df2 = df1[(df1['file_name_AC0'] >= 80) & (df1['file_name_AC0'] < 100)]\n",
    "df2 = df2.reset_index()\n",
    "# df2[df2['name'].fillna('na')]\n"
   ]
  },
  {
   "cell_type": "code",
   "execution_count": 10,
   "metadata": {
    "ExecuteTime": {
     "end_time": "2019-01-30T11:34:30.510554Z",
     "start_time": "2019-01-30T11:34:30.367544Z"
    }
   },
   "outputs": [],
   "source": [
    "# values = {'name':'na'}\n",
    "df2['name']=df['name'].fillna('na')"
   ]
  },
  {
   "cell_type": "code",
   "execution_count": 12,
   "metadata": {
    "ExecuteTime": {
     "end_time": "2019-01-30T11:34:35.738862Z",
     "start_time": "2019-01-30T11:34:35.730559Z"
    }
   },
   "outputs": [],
   "source": [
    "data_name = df2['name']"
   ]
  },
  {
   "cell_type": "code",
   "execution_count": 17,
   "metadata": {
    "ExecuteTime": {
     "end_time": "2019-01-30T11:35:41.915151Z",
     "start_time": "2019-01-30T11:35:41.870531Z"
    }
   },
   "outputs": [],
   "source": [
    "# str(data_name)\n",
    "last_name = []\n",
    "data_name = list(data_name)\n",
    "for i in range(len(data_name)):\n",
    "    full_name = data_name[i].split()\n",
    "    last_name.append(full_name[-1])"
   ]
  },
  {
   "cell_type": "code",
   "execution_count": 14,
   "metadata": {
    "ExecuteTime": {
     "end_time": "2019-01-30T11:34:42.698407Z",
     "start_time": "2019-01-30T11:34:42.685706Z"
    }
   },
   "outputs": [],
   "source": [
    "# data_name[-1].split()\n",
    "# len(data_name)\n",
    "indexes = df2[df2['name'].isnull() == True].index"
   ]
  },
  {
   "cell_type": "code",
   "execution_count": 15,
   "metadata": {
    "ExecuteTime": {
     "end_time": "2019-01-30T11:34:43.221584Z",
     "start_time": "2019-01-30T11:34:43.207758Z"
    }
   },
   "outputs": [
    {
     "data": {
      "text/plain": [
       "Int64Index([], dtype='int64')"
      ]
     },
     "execution_count": 15,
     "metadata": {},
     "output_type": "execute_result"
    }
   ],
   "source": [
    "indexes"
   ]
  },
  {
   "cell_type": "code",
   "execution_count": 45,
   "metadata": {
    "ExecuteTime": {
     "end_time": "2019-01-30T12:10:10.426930Z",
     "start_time": "2019-01-30T12:10:10.405059Z"
    }
   },
   "outputs": [
    {
     "data": {
      "text/plain": [
       "3923"
      ]
     },
     "execution_count": 45,
     "metadata": {},
     "output_type": "execute_result"
    }
   ],
   "source": [
    "mylist = list(sorted(set(last_name)))\n",
    "len(mylist)"
   ]
  },
  {
   "cell_type": "markdown",
   "metadata": {},
   "source": [
    "# Cross tab in a short way"
   ]
  },
  {
   "cell_type": "code",
   "execution_count": 15,
   "metadata": {
    "ExecuteTime": {
     "end_time": "2019-01-31T13:42:45.296934Z",
     "start_time": "2019-01-31T13:42:45.259592Z"
    }
   },
   "outputs": [],
   "source": [
    "labels = ['Young_Kids', 'Adult_citizen', 'Senior_citizen', 'Extreme_Old']\n",
    "bins = [18, 35, 60, 80, 120]\n",
    "df1[\"Age_cat\"] = pd.cut(df1['age'], bins, labels=labels)\n"
   ]
  },
  {
   "cell_type": "code",
   "execution_count": 18,
   "metadata": {
    "ExecuteTime": {
     "end_time": "2019-01-31T13:47:37.126720Z",
     "start_time": "2019-01-31T13:47:36.905986Z"
    }
   },
   "outputs": [
    {
     "data": {
      "text/html": [
       "<div>\n",
       "<style scoped>\n",
       "    .dataframe tbody tr th:only-of-type {\n",
       "        vertical-align: middle;\n",
       "    }\n",
       "\n",
       "    .dataframe tbody tr th {\n",
       "        vertical-align: top;\n",
       "    }\n",
       "\n",
       "    .dataframe thead th {\n",
       "        text-align: right;\n",
       "    }\n",
       "</style>\n",
       "<table border=\"1\" class=\"dataframe\">\n",
       "  <thead>\n",
       "    <tr style=\"text-align: right;\">\n",
       "      <th>Age_cat</th>\n",
       "      <th>Young_Kids</th>\n",
       "      <th>Adult_citizen</th>\n",
       "      <th>Senior_citizen</th>\n",
       "      <th>Extreme_Old</th>\n",
       "      <th>All</th>\n",
       "    </tr>\n",
       "    <tr>\n",
       "      <th>gen</th>\n",
       "      <th></th>\n",
       "      <th></th>\n",
       "      <th></th>\n",
       "      <th></th>\n",
       "      <th></th>\n",
       "    </tr>\n",
       "  </thead>\n",
       "  <tbody>\n",
       "    <tr>\n",
       "      <th>F</th>\n",
       "      <td>25944</td>\n",
       "      <td>30420</td>\n",
       "      <td>6583</td>\n",
       "      <td>968</td>\n",
       "      <td>63915</td>\n",
       "    </tr>\n",
       "    <tr>\n",
       "      <th>M</th>\n",
       "      <td>35860</td>\n",
       "      <td>37208</td>\n",
       "      <td>7048</td>\n",
       "      <td>1036</td>\n",
       "      <td>81152</td>\n",
       "    </tr>\n",
       "    <tr>\n",
       "      <th>All</th>\n",
       "      <td>13631</td>\n",
       "      <td>67628</td>\n",
       "      <td>2004</td>\n",
       "      <td>61804</td>\n",
       "      <td>145067</td>\n",
       "    </tr>\n",
       "  </tbody>\n",
       "</table>\n",
       "</div>"
      ],
      "text/plain": [
       "Age_cat  Young_Kids  Adult_citizen  Senior_citizen  Extreme_Old     All\n",
       "gen                                                                    \n",
       "F             25944          30420            6583          968   63915\n",
       "M             35860          37208            7048         1036   81152\n",
       "All           13631          67628            2004        61804  145067"
      ]
     },
     "execution_count": 18,
     "metadata": {},
     "output_type": "execute_result"
    }
   ],
   "source": [
    "# df1.head()\n",
    "pd.crosstab(df1.gen, df1.Age_cat, margins=True)"
   ]
  },
  {
   "cell_type": "code",
   "execution_count": null,
   "metadata": {},
   "outputs": [],
   "source": []
  }
 ],
 "metadata": {
  "celltoolbar": "Raw Cell Format",
  "kernelspec": {
   "display_name": "Python 3",
   "language": "python",
   "name": "python3"
  },
  "language_info": {
   "codemirror_mode": {
    "name": "ipython",
    "version": 3
   },
   "file_extension": ".py",
   "mimetype": "text/x-python",
   "name": "python",
   "nbconvert_exporter": "python",
   "pygments_lexer": "ipython3",
   "version": "3.7.2"
  }
 },
 "nbformat": 4,
 "nbformat_minor": 2
}
